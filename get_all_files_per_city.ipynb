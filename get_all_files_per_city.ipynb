{
 "cells": [
  {
   "cell_type": "code",
   "execution_count": 1,
   "metadata": {},
   "outputs": [],
   "source": [
    "import geopandas as gpd\n",
    "import pandas as pd\n",
    "import os\n",
    "import numpy as np\n",
    "import matplotlib.pyplot as plt\n",
    "import rasterio as rio\n",
    "from rasterio.plot import show\n",
    "from rasterio.plot import show_hist\n",
    "from rasterio.plot import plotting_extent\n",
    "from shapely.geometry import Polygon, mapping\n",
    "from rasterio.mask import mask\n",
    "from os.path import join\n",
    "import descartes\n",
    "from PIL import Image\n",
    "\n",
    "#import earthpy.spatial as es\n",
    "#import earthpy.plot as ep\n",
    "# import earthpy.clip as ec\n",
    "# import earthpy.mask as em\n",
    "\n",
    "import fiona \n",
    "import pyproj\n",
    "import time\n",
    "\n",
    "import warnings"
   ]
  },
  {
   "cell_type": "code",
   "execution_count": 2,
   "metadata": {},
   "outputs": [],
   "source": [
    "# local paths\n",
    "path_data = '/Volumes/other/datasets_and_ML/UNOSAT_Challenge/Train_Dataset'\n",
    "area = 'Najaf_2015'\n",
    "\n",
    "\n",
    "path_file = 's1tiling_S1A_IW_GRDH_1SDV_20150108T030926_20150108T030951_004074_004EC3_B908/38SLF/s1a_38SLF_vv_DES_20150108t030926.tif'\n",
    "path_file_border_mask = 's1tiling_S1A_IW_GRDH_1SDV_20151222T030932_20151222T030957_009149_00D2A0_F04A/38SLF/s1a_38SLF_vv_DES_20151222t030932_BorderMask.tif'\n",
    "\n",
    "path_test_raster_file = '/Volumes/other/datasets_and_ML/UNOSAT_Challenge/Train_Dataset/Nasiryah_2015/20150114_38RPV/s1a_38RPV_vh_ASC_20150114t145841.tif'\n",
    "path_test_shape_file = '/Volumes/other/datasets_and_ML/UNOSAT_Challenge/Train_Dataset/Nasiryah_2015/38RPV_Nasiryah.shp'\n",
    "\n",
    "shape_file = '38SLF_Mosul.shp'"
   ]
  },
  {
   "cell_type": "code",
   "execution_count": null,
   "metadata": {},
   "outputs": [],
   "source": []
  },
  {
   "cell_type": "code",
   "execution_count": 47,
   "metadata": {},
   "outputs": [],
   "source": [
    "def get_all_tiff_images_per_city(path_data, area):\n",
    "    \"\"\"get all .tif files per city which are no borderMask files\n",
    "    \"\"\"\n",
    "    list_files_city = []\n",
    "    for x in os.listdir(join(path_data, area)):\n",
    "        if os.path.isdir(join(path_data, area, x)):\n",
    "            dir_season = x\n",
    "            for dir_lowest_level in os.listdir(join(path_data, area, dir_season)):\n",
    "                y = join(path_data, area, dir_season, dir_lowest_level)\n",
    "                if os.path.isdir(y):\n",
    "                    for file_name in os.listdir(y):\n",
    "                        if not 'BorderMask' in file_name and os.path.splitext(file_name)[1] == '.tif':\n",
    "                            print(file_name)\n",
    "                            list_files_city.append(join(path_data, area, dir_season, dir_lowest_level, file_name))\n",
    "\n",
    "    return list_files_city"
   ]
  },
  {
   "cell_type": "code",
   "execution_count": 48,
   "metadata": {},
   "outputs": [
    {
     "name": "stdout",
     "output_type": "stream",
     "text": [
      "s1a_38SLF_vh_DES_20150108t030926.tif\n",
      "s1a_38SLF_vv_DES_20150108t030926.tif\n",
      "s1a_38SLF_vh_20150426.tif\n",
      "s1a_38SLF_vv_20150426.tif\n",
      "s1a_38SLF_vh_DES_20150812t030933.tif\n",
      "s1a_38SLF_vv_DES_20150812t030933.tif\n",
      "s1a_38SLF_vh_DES_20151222t030932.tif\n",
      "s1a_38SLF_vv_DES_20151222t030932.tif\n"
     ]
    }
   ],
   "source": [
    "list_files_city = get_all_tiff_images_per_city(path_data, area)"
   ]
  },
  {
   "cell_type": "code",
   "execution_count": 49,
   "metadata": {},
   "outputs": [],
   "source": [
    "list_raster_obs = []\n",
    "for file in list_files_city:\n",
    "    list_raster_obs.append(rio.open(file))"
   ]
  },
  {
   "cell_type": "code",
   "execution_count": 50,
   "metadata": {},
   "outputs": [
    {
     "data": {
      "text/plain": [
       "[<open DatasetReader name='/Volumes/other/datasets_and_ML/UNOSAT_Challenge/Train_Dataset/Mosul_2015/s1tiling_S1A_IW_GRDH_1SDV_20150108T030926_20150108T030951_004074_004EC3_B908/38SLF/s1a_38SLF_vh_DES_20150108t030926.tif' mode='r'>,\n",
       " <open DatasetReader name='/Volumes/other/datasets_and_ML/UNOSAT_Challenge/Train_Dataset/Mosul_2015/s1tiling_S1A_IW_GRDH_1SDV_20150108T030926_20150108T030951_004074_004EC3_B908/38SLF/s1a_38SLF_vv_DES_20150108t030926.tif' mode='r'>,\n",
       " <open DatasetReader name='/Volumes/other/datasets_and_ML/UNOSAT_Challenge/Train_Dataset/Mosul_2015/s1tiling_S1A_IW_GRDH_1SDV_20150426T030931_20150426T030956_005649_0073E6_2DFA/38SLF/s1a_38SLF_vh_20150426.tif' mode='r'>,\n",
       " <open DatasetReader name='/Volumes/other/datasets_and_ML/UNOSAT_Challenge/Train_Dataset/Mosul_2015/s1tiling_S1A_IW_GRDH_1SDV_20150426T030931_20150426T030956_005649_0073E6_2DFA/38SLF/s1a_38SLF_vv_20150426.tif' mode='r'>,\n",
       " <open DatasetReader name='/Volumes/other/datasets_and_ML/UNOSAT_Challenge/Train_Dataset/Mosul_2015/s1tiling_S1A_IW_GRDH_1SDV_20150812T030933_20150812T030958_007224_009E1D_B70E/38SLF/s1a_38SLF_vh_DES_20150812t030933.tif' mode='r'>,\n",
       " <open DatasetReader name='/Volumes/other/datasets_and_ML/UNOSAT_Challenge/Train_Dataset/Mosul_2015/s1tiling_S1A_IW_GRDH_1SDV_20150812T030933_20150812T030958_007224_009E1D_B70E/38SLF/s1a_38SLF_vv_DES_20150812t030933.tif' mode='r'>,\n",
       " <open DatasetReader name='/Volumes/other/datasets_and_ML/UNOSAT_Challenge/Train_Dataset/Mosul_2015/s1tiling_S1A_IW_GRDH_1SDV_20151222T030932_20151222T030957_009149_00D2A0_F04A/38SLF/s1a_38SLF_vh_DES_20151222t030932.tif' mode='r'>,\n",
       " <open DatasetReader name='/Volumes/other/datasets_and_ML/UNOSAT_Challenge/Train_Dataset/Mosul_2015/s1tiling_S1A_IW_GRDH_1SDV_20151222T030932_20151222T030957_009149_00D2A0_F04A/38SLF/s1a_38SLF_vv_DES_20151222t030932.tif' mode='r'>]"
      ]
     },
     "execution_count": 50,
     "metadata": {},
     "output_type": "execute_result"
    }
   ],
   "source": [
    "list_raster_obs"
   ]
  },
  {
   "cell_type": "code",
   "execution_count": 54,
   "metadata": {},
   "outputs": [
    {
     "name": "stdout",
     "output_type": "stream",
     "text": [
      "<open DatasetReader name='/Volumes/other/datasets_and_ML/UNOSAT_Challenge/Train_Dataset/Mosul_2015/s1tiling_S1A_IW_GRDH_1SDV_20150108T030926_20150108T030951_004074_004EC3_B908/38SLF/s1a_38SLF_vh_DES_20150108t030926.tif' mode='r'>\n",
      "BoundingBox(left=389200.0, bottom=4099890.0, right=391500.0, top=4099940.0)\n",
      "{'driver': 'GTiff', 'dtype': 'float32', 'nodata': 0.0, 'width': 230, 'height': 5, 'count': 1, 'crs': CRS.from_epsg(32638), 'transform': Affine(10.0, 0.0, 389200.0,\n",
      "       0.0, -10.0, 4099940.0)}\n",
      "\n",
      "<open DatasetReader name='/Volumes/other/datasets_and_ML/UNOSAT_Challenge/Train_Dataset/Mosul_2015/s1tiling_S1A_IW_GRDH_1SDV_20150108T030926_20150108T030951_004074_004EC3_B908/38SLF/s1a_38SLF_vv_DES_20150108t030926.tif' mode='r'>\n",
      "BoundingBox(left=300000.0, bottom=3990240.0, right=409790.0, top=4100040.0)\n",
      "{'driver': 'GTiff', 'dtype': 'float32', 'nodata': 0.0, 'width': 10979, 'height': 10980, 'count': 1, 'crs': CRS.from_epsg(32638), 'transform': Affine(10.0, 0.0, 300000.0,\n",
      "       0.0, -10.0, 4100040.0)}\n",
      "\n",
      "<open DatasetReader name='/Volumes/other/datasets_and_ML/UNOSAT_Challenge/Train_Dataset/Mosul_2015/s1tiling_S1A_IW_GRDH_1SDV_20150426T030931_20150426T030956_005649_0073E6_2DFA/38SLF/s1a_38SLF_vh_20150426.tif' mode='r'>\n",
      "BoundingBox(left=300000.0, bottom=3990240.0, right=409790.0, top=4100040.0)\n",
      "{'driver': 'GTiff', 'dtype': 'float32', 'nodata': -99999.0, 'width': 10979, 'height': 10980, 'count': 1, 'crs': CRS.from_epsg(32638), 'transform': Affine(10.0, 0.0, 300000.0,\n",
      "       0.0, -10.0, 4100040.0)}\n",
      "\n",
      "<open DatasetReader name='/Volumes/other/datasets_and_ML/UNOSAT_Challenge/Train_Dataset/Mosul_2015/s1tiling_S1A_IW_GRDH_1SDV_20150426T030931_20150426T030956_005649_0073E6_2DFA/38SLF/s1a_38SLF_vv_20150426.tif' mode='r'>\n",
      "BoundingBox(left=300000.0, bottom=3990240.0, right=409790.0, top=4100040.0)\n",
      "{'driver': 'GTiff', 'dtype': 'float32', 'nodata': -99999.0, 'width': 10979, 'height': 10980, 'count': 1, 'crs': CRS.from_epsg(32638), 'transform': Affine(10.0, 0.0, 300000.0,\n",
      "       0.0, -10.0, 4100040.0)}\n",
      "\n",
      "<open DatasetReader name='/Volumes/other/datasets_and_ML/UNOSAT_Challenge/Train_Dataset/Mosul_2015/s1tiling_S1A_IW_GRDH_1SDV_20150812T030933_20150812T030958_007224_009E1D_B70E/38SLF/s1a_38SLF_vh_DES_20150812t030933.tif' mode='r'>\n",
      "BoundingBox(left=300000.0, bottom=3990240.0, right=409790.0, top=4100040.0)\n",
      "{'driver': 'GTiff', 'dtype': 'float32', 'nodata': 0.0, 'width': 10979, 'height': 10980, 'count': 1, 'crs': CRS.from_epsg(32638), 'transform': Affine(10.0, 0.0, 300000.0,\n",
      "       0.0, -10.0, 4100040.0)}\n",
      "\n",
      "<open DatasetReader name='/Volumes/other/datasets_and_ML/UNOSAT_Challenge/Train_Dataset/Mosul_2015/s1tiling_S1A_IW_GRDH_1SDV_20150812T030933_20150812T030958_007224_009E1D_B70E/38SLF/s1a_38SLF_vv_DES_20150812t030933.tif' mode='r'>\n",
      "BoundingBox(left=300000.0, bottom=3990240.0, right=409790.0, top=4100040.0)\n",
      "{'driver': 'GTiff', 'dtype': 'float32', 'nodata': 0.0, 'width': 10979, 'height': 10980, 'count': 1, 'crs': CRS.from_epsg(32638), 'transform': Affine(10.0, 0.0, 300000.0,\n",
      "       0.0, -10.0, 4100040.0)}\n",
      "\n",
      "<open DatasetReader name='/Volumes/other/datasets_and_ML/UNOSAT_Challenge/Train_Dataset/Mosul_2015/s1tiling_S1A_IW_GRDH_1SDV_20151222T030932_20151222T030957_009149_00D2A0_F04A/38SLF/s1a_38SLF_vh_DES_20151222t030932.tif' mode='r'>\n",
      "BoundingBox(left=300000.0, bottom=3990240.0, right=409790.0, top=4100040.0)\n",
      "{'driver': 'GTiff', 'dtype': 'float32', 'nodata': 0.0, 'width': 10979, 'height': 10980, 'count': 1, 'crs': CRS.from_epsg(32638), 'transform': Affine(10.0, 0.0, 300000.0,\n",
      "       0.0, -10.0, 4100040.0)}\n",
      "\n",
      "<open DatasetReader name='/Volumes/other/datasets_and_ML/UNOSAT_Challenge/Train_Dataset/Mosul_2015/s1tiling_S1A_IW_GRDH_1SDV_20151222T030932_20151222T030957_009149_00D2A0_F04A/38SLF/s1a_38SLF_vv_DES_20151222t030932.tif' mode='r'>\n",
      "BoundingBox(left=300000.0, bottom=3990240.0, right=409790.0, top=4100040.0)\n",
      "{'driver': 'GTiff', 'dtype': 'float32', 'nodata': 0.0, 'width': 10979, 'height': 10980, 'count': 1, 'crs': CRS.from_epsg(32638), 'transform': Affine(10.0, 0.0, 300000.0,\n",
      "       0.0, -10.0, 4100040.0)}\n",
      "\n"
     ]
    }
   ],
   "source": [
    "for raster_obj in list_raster_obs:\n",
    "    print(raster_obj) \n",
    "    print(raster_obj.bounds)\n",
    "    print(raster_obj.meta)\n",
    "    print()"
   ]
  },
  {
   "cell_type": "code",
   "execution_count": null,
   "metadata": {},
   "outputs": [],
   "source": [
    "polygons = gpd.read_file(path_shape_file)\n",
    "raster_obj= rio.open(path_raster)\n"
   ]
  }
 ],
 "metadata": {
  "kernelspec": {
   "display_name": "Python [conda env:conda_unosatenv]",
   "language": "python",
   "name": "conda-env-conda_unosatenv-py"
  },
  "language_info": {
   "codemirror_mode": {
    "name": "ipython",
    "version": 3
   },
   "file_extension": ".py",
   "mimetype": "text/x-python",
   "name": "python",
   "nbconvert_exporter": "python",
   "pygments_lexer": "ipython3",
   "version": "3.7.5"
  }
 },
 "nbformat": 4,
 "nbformat_minor": 2
}
