{
 "cells": [
  {
   "cell_type": "code",
   "execution_count": 1,
   "metadata": {},
   "outputs": [],
   "source": [
    "import geopandas as gpd\n",
    "import pandas as pd\n",
    "import os\n",
    "from os.path import join\n",
    "import numpy as np\n",
    "import matplotlib.pyplot as plt\n",
    "import rasterio as rio\n",
    "from rasterio.plot import show\n",
    "from rasterio.plot import show_hist\n",
    "from rasterio.plot import plotting_extent\n",
    "from shapely.geometry import Polygon, mapping\n",
    "from rasterio.mask import mask\n",
    "from os.path import join\n",
    "import descartes\n",
    "from PIL import Image\n",
    "\n",
    "import fiona \n",
    "import pyproj\n",
    "import time\n",
    "import re\n",
    "\n",
    "import warnings\n",
    "\n",
    "from pprint import pprint"
   ]
  },
  {
   "cell_type": "code",
   "execution_count": 2,
   "metadata": {},
   "outputs": [],
   "source": [
    "# local paths\n",
    "path_data_local_train = '/Volumes/other/datasets_and_ML/UNOSAT_Challenge/Train_Dataset'\n",
    "path_data_local_test = '/Volumes/other/datasets_and_ML/UNOSAT_Challenge/Evaluation_Dataset'"
   ]
  },
  {
   "cell_type": "code",
   "execution_count": 3,
   "metadata": {},
   "outputs": [],
   "source": [
    "dict_seasons = {'winter':['01', '02', '03'] , \n",
    "                'spring':['04', '05', '06'],\n",
    "                'summer':['07', '08', '09'], \n",
    "                'autumn':['10', '11', '12']}\n",
    "list_polarizations = ['vh', 'vv']\n",
    "\n",
    "seasons_fixed_order = ['winter', 'spring', 'summer', 'autumn']"
   ]
  },
  {
   "cell_type": "markdown",
   "metadata": {},
   "source": [
    "# loading"
   ]
  },
  {
   "cell_type": "code",
   "execution_count": 62,
   "metadata": {},
   "outputs": [],
   "source": [
    "def paths_in_dict(path_data_local):\n",
    "    dict_paths = dict()\n",
    "    \n",
    "    list_areas_year = [dir_area for dir_area in os.listdir(path_data_local) \n",
    "                       if os.path.isdir(join(path_data_local, dir_area))]\n",
    "    if list_areas_year:\n",
    "        str_year = list_areas_year[0].split('_')[1]\n",
    "        list_areas = [area_year.split('_')[0] for area_year in list_areas_year]\n",
    "    else:\n",
    "        return {}\n",
    "            \n",
    "    for area in list_areas:\n",
    "        dict_paths[area] = dict()\n",
    "            \n",
    "        # .tif files\n",
    "        dict_paths[area]['tif'] = dict()\n",
    "        for season, list_months in dict_seasons.items():\n",
    "            dict_paths[area]['tif'][season] = dict()\n",
    "\n",
    "            for month in list_months:\n",
    "                for pol in list_polarizations:\n",
    "                    str_pol = \"_\" + pol + \"_\"\n",
    "                    year_month = str_year + month\n",
    "\n",
    "                    for root, dirs, files in os.walk(path_data_local):\n",
    "                        for file in files:\n",
    "                            path_file = join(root, file)\n",
    "                            if re.search(area + \".*\" + str_pol + \".*\" + year_month + \".*.tif$\", path_file):\n",
    "                                if not 'BorderMask' in file:\n",
    "                                    dict_paths[area]['tif'][season][pol] = path_file\n",
    "          \n",
    "        # .shp files\n",
    "        for root, dirs, files in os.walk(path_data_local):\n",
    "            for file in files:\n",
    "                path_file = join(root, file)\n",
    "                if re.search(area + \".*.shp$\", file):\n",
    "                    dict_paths[area]['shp'] = path_file\n",
    "                       \n",
    "    return dict_paths"
   ]
  },
  {
   "cell_type": "code",
   "execution_count": 63,
   "metadata": {},
   "outputs": [],
   "source": [
    "dict_data_train = paths_in_dict(path_data_local_train)\n",
    "dict_data_test = paths_in_dict(path_data_local_test)"
   ]
  },
  {
   "cell_type": "code",
   "execution_count": 64,
   "metadata": {},
   "outputs": [
    {
     "data": {
      "text/plain": [
       "'/Volumes/other/datasets_and_ML/UNOSAT_Challenge/Train_Dataset/Mosul_2015/38SLF_Mosul.shp'"
      ]
     },
     "execution_count": 64,
     "metadata": {},
     "output_type": "execute_result"
    }
   ],
   "source": [
    "dict_data_train['Mosul']['shp']"
   ]
  },
  {
   "cell_type": "code",
   "execution_count": 12,
   "metadata": {},
   "outputs": [],
   "source": [
    "def tif2raster(dict_data):\n",
    "    dict_raster_layers = dict()\n",
    "\n",
    "    for area in dict_data:\n",
    "        dict_raster_layers[area] = []\n",
    "\n",
    "        for season in seasons_fixed_order:\n",
    "            for pol in sorted(dict_data[area]['tif'][season]):\n",
    "                path_raster = dict_data[area]['tif'][season][pol]\n",
    "                raster_obj = rio.open(path_raster)\n",
    "                dict_raster_layers[area].append((season, pol, raster_obj))\n",
    "                \n",
    "    return dict_raster_layers "
   ]
  },
  {
   "cell_type": "code",
   "execution_count": 55,
   "metadata": {},
   "outputs": [],
   "source": [
    "def shp2polygons(dict_data):\n",
    "    dict_polygons = dict()\n",
    "    \n",
    "    for area in dict_data:\n",
    "        for season in seasons_fixed_order:\n",
    "            path_shape = dict_data[area]['shp']\n",
    "            polygons = gpd.read_file(path_shape)\n",
    "            dict_polygons[area] = polygons\n",
    "            \n",
    "    return dict_polygons"
   ]
  },
  {
   "cell_type": "markdown",
   "metadata": {
    "heading_collapsed": true
   },
   "source": [
    "### testing"
   ]
  },
  {
   "cell_type": "code",
   "execution_count": 65,
   "metadata": {
    "hidden": true
   },
   "outputs": [
    {
     "data": {
      "text/plain": [
       "dict_keys(['Mosul', 'Najaf', 'Nasiryah', 'Souleimaniye'])"
      ]
     },
     "execution_count": 65,
     "metadata": {},
     "output_type": "execute_result"
    }
   ],
   "source": [
    "dict_polygons = shp2polygons(dict_data_train)\n",
    "dict_polygons.keys()"
   ]
  },
  {
   "cell_type": "code",
   "execution_count": 66,
   "metadata": {
    "hidden": true
   },
   "outputs": [
    {
     "data": {
      "text/plain": [
       "<open DatasetReader name='/Volumes/other/datasets_and_ML/UNOSAT_Challenge/Train_Dataset/Mosul_2015/s1tiling_S1A_IW_GRDH_1SDV_20150108T030926_20150108T030951_004074_004EC3_B908/38SLF/s1a_38SLF_vv_DES_20150108t030926.tif' mode='r'>"
      ]
     },
     "execution_count": 66,
     "metadata": {},
     "output_type": "execute_result"
    }
   ],
   "source": [
    "area_test = 'Mosul'\n",
    "polygons = shp2polygons(dict_data_train)[area_test]\n",
    "raster_obj_test = tif2raster(dict_data_train)[area_test][1][2]\n",
    "raster_obj_test "
   ]
  },
  {
   "cell_type": "code",
   "execution_count": 67,
   "metadata": {
    "hidden": true
   },
   "outputs": [
    {
     "data": {
      "text/plain": [
       "CRS.from_epsg(32638)"
      ]
     },
     "execution_count": 67,
     "metadata": {},
     "output_type": "execute_result"
    }
   ],
   "source": [
    "raster_obj_test.crs"
   ]
  },
  {
   "cell_type": "code",
   "execution_count": 68,
   "metadata": {
    "hidden": true
   },
   "outputs": [
    {
     "data": {
      "text/plain": [
       "<matplotlib.axes._subplots.AxesSubplot at 0x11f780690>"
      ]
     },
     "execution_count": 68,
     "metadata": {},
     "output_type": "execute_result"
    },
    {
     "data": {
      "image/png": "[encoded data removed]",
      "text/plain": [
       "<Figure size 432x288 with 1 Axes>"
      ]
     },
     "metadata": {
      "needs_background": "light"
     },
     "output_type": "display_data"
    }
   ],
   "source": [
    "polygons.plot()"
   ]
  },
  {
   "cell_type": "code",
   "execution_count": 69,
   "metadata": {
    "hidden": true
   },
   "outputs": [],
   "source": [
    "polygons_resh = polygons.to_crs(raster_obj_test.crs)\n",
    "geoms = polygons_resh['geometry']\n",
    "geom = polygons_resh.iloc[0]['geometry']"
   ]
  },
  {
   "cell_type": "code",
   "execution_count": 70,
   "metadata": {
    "hidden": true
   },
   "outputs": [
    {
     "name": "stdout",
     "output_type": "stream",
     "text": [
      "polygon mask shape: (10980, 10979)\n"
     ]
    }
   ],
   "source": [
    "polygon_mask = rio.features.geometry_mask(geometries=geoms,\n",
    "                                   out_shape=(raster_obj_test.height, raster_obj_test.width),\n",
    "                                   transform=raster_obj_test.transform,\n",
    "                                   all_touched=False,\n",
    "                                   invert=True)\n",
    "print('polygon mask shape:', polygon_mask.shape)"
   ]
  },
  {
   "cell_type": "code",
   "execution_count": 71,
   "metadata": {
    "hidden": true
   },
   "outputs": [
    {
     "name": "stdout",
     "output_type": "stream",
     "text": [
      "sum polygon_mask_int: 4316046\n"
     ]
    }
   ],
   "source": [
    "polygon_mask_int = np.multiply(polygon_mask, 1)\n",
    "print('sum polygon_mask_int:', sum(sum(polygon_mask_int)))"
   ]
  },
  {
   "cell_type": "markdown",
   "metadata": {},
   "source": [
    "# preprocessing "
   ]
  },
  {
   "cell_type": "markdown",
   "metadata": {},
   "source": [
    "### raster"
   ]
  },
  {
   "cell_type": "code",
   "execution_count": 7,
   "metadata": {},
   "outputs": [],
   "source": [
    "quantile_clip_max = 0.999\n",
    "dir_save_arrays = '/Volumes/other/datasets_and_ML/UNOSAT_Challenge/data_temp/np_arrays'\n",
    "dir_save_plots =  '/Volumes/other/datasets_and_ML/UNOSAT_Challenge/data_temp/plots'"
   ]
  },
  {
   "cell_type": "code",
   "execution_count": 8,
   "metadata": {},
   "outputs": [],
   "source": [
    "def exponent(x, a, b):\n",
    "    return a*x**b\n",
    "\n",
    "def log(x, a, b):\n",
    "    return np.log(a*x + b)\n",
    "\n",
    "# Normalize bands into 0.0 - 1.0 scale\n",
    "def normalize(array):\n",
    "    array_min, array_max = array.min(), array.max()\n",
    "    return (array - array_min) / (array_max - array_min)\n",
    "\n",
    "\n",
    "def process_image(np_arr, quantile_clip_max, clip_min=0, plotting=False, **kwargs_plotting):\n",
    "    # need to clip and normalize contrast of figure\n",
    "    clip_max = np.quantile(np_arr, quantile_clip_max)\n",
    "    arr_clip = np.clip(np_arr, clip_min, clip_max)\n",
    "    np_arr_norm = normalize(arr_clip)\n",
    "    \n",
    "    if plotting:\n",
    "        fig, ax = plt.subplots(figsize=(10,5))\n",
    "        ax.hist(np_arr_norm.flatten(), bins=100)\n",
    "        title = ''.join([val + '-' for val in kwargs_plotting.values()]) \n",
    "        ax.set_title(title)\n",
    "        fig.savefig(join(dir_save_plots, title + '.png'))\n",
    "        plt.close()\n",
    "    \n",
    "    return np_arr_norm "
   ]
  },
  {
   "cell_type": "code",
   "execution_count": 11,
   "metadata": {},
   "outputs": [],
   "source": [
    "dict_raster_layers = tif2raster(dict_data_train)"
   ]
  },
  {
   "cell_type": "code",
   "execution_count": 12,
   "metadata": {},
   "outputs": [
    {
     "name": "stdout",
     "output_type": "stream",
     "text": [
      "{'Mosul': [('winter',\n",
      "            'vh',\n",
      "            <open DatasetReader name='/Volumes/other/datasets_and_ML/UNOSAT_Challenge/Train_Dataset/Mosul_2015/s1tiling_S1A_IW_GRDH_1SDV_20150108T030926_20150108T030951_004074_004EC3_B908/38SLF/s1a_38SLF_vh_DES_20150108t030926.tif' mode='r'>),\n",
      "           ('winter',\n",
      "            'vv',\n",
      "            <open DatasetReader name='/Volumes/other/datasets_and_ML/UNOSAT_Challenge/Train_Dataset/Mosul_2015/s1tiling_S1A_IW_GRDH_1SDV_20150108T030926_20150108T030951_004074_004EC3_B908/38SLF/s1a_38SLF_vv_DES_20150108t030926.tif' mode='r'>),\n",
      "           ('spring',\n",
      "            'vh',\n",
      "            <open DatasetReader name='/Volumes/other/datasets_and_ML/UNOSAT_Challenge/Train_Dataset/Mosul_2015/s1tiling_S1A_IW_GRDH_1SDV_20150426T030931_20150426T030956_005649_0073E6_2DFA/38SLF/s1a_38SLF_vh_20150426.tif' mode='r'>),\n",
      "           ('spring',\n",
      "            'vv',\n",
      "            <open DatasetReader name='/Volumes/other/datasets_and_ML/UNOSAT_Challenge/Train_Dataset/Mosul_2015/s1tiling_S1A_IW_GRDH_1SDV_20150426T030931_20150426T030956_005649_0073E6_2DFA/38SLF/s1a_38SLF_vv_20150426.tif' mode='r'>),\n",
      "           ('summer',\n",
      "            'vh',\n",
      "            <open DatasetReader name='/Volumes/other/datasets_and_ML/UNOSAT_Challenge/Train_Dataset/Mosul_2015/s1tiling_S1A_IW_GRDH_1SDV_20150812T030933_20150812T030958_007224_009E1D_B70E/38SLF/s1a_38SLF_vh_DES_20150812t030933.tif' mode='r'>),\n",
      "           ('summer',\n",
      "            'vv',\n",
      "            <open DatasetReader name='/Volumes/other/datasets_and_ML/UNOSAT_Challenge/Train_Dataset/Mosul_2015/s1tiling_S1A_IW_GRDH_1SDV_20150812T030933_20150812T030958_007224_009E1D_B70E/38SLF/s1a_38SLF_vv_DES_20150812t030933.tif' mode='r'>),\n",
      "           ('autumn',\n",
      "            'vh',\n",
      "            <open DatasetReader name='/Volumes/other/datasets_and_ML/UNOSAT_Challenge/Train_Dataset/Mosul_2015/s1tiling_S1A_IW_GRDH_1SDV_20151222T030932_20151222T030957_009149_00D2A0_F04A/38SLF/s1a_38SLF_vh_DES_20151222t030932.tif' mode='r'>),\n",
      "           ('autumn',\n",
      "            'vv',\n",
      "            <open DatasetReader name='/Volumes/other/datasets_and_ML/UNOSAT_Challenge/Train_Dataset/Mosul_2015/s1tiling_S1A_IW_GRDH_1SDV_20151222T030932_20151222T030957_009149_00D2A0_F04A/38SLF/s1a_38SLF_vv_DES_20151222t030932.tif' mode='r'>)],\n",
      " 'Najaf': [('winter',\n",
      "            'vh',\n",
      "            <open DatasetReader name='/Volumes/other/datasets_and_ML/UNOSAT_Challenge/Train_Dataset/Najaf_2015/s1tiling_S1A_IW_GRDH_1SDV_20150114T145906_20150114T145931_004169_0050E6_E1CE/38SMA/s1a_38SMA_vh_ASC_20150114t145906.tif' mode='r'>),\n",
      "           ('winter',\n",
      "            'vv',\n",
      "            <open DatasetReader name='/Volumes/other/datasets_and_ML/UNOSAT_Challenge/Train_Dataset/Najaf_2015/s1tiling_S1A_IW_GRDH_1SDV_20150114T145906_20150114T145931_004169_0050E6_E1CE/38SMA/s1a_38SMA_vv_ASC_20150114t145906.tif' mode='r'>),\n",
      "           ('spring',\n",
      "            'vh',\n",
      "            <open DatasetReader name='/Volumes/other/datasets_and_ML/UNOSAT_Challenge/Train_Dataset/Najaf_2015/s1tiling_S1A_IW_GRDH_1SDV_20150408T145907_20150408T145932_005394_006DAD_D74C/38SMA/s1a_38SMA_vh_ASC_20150408t145907.tif' mode='r'>),\n",
      "           ('spring',\n",
      "            'vv',\n",
      "            <open DatasetReader name='/Volumes/other/datasets_and_ML/UNOSAT_Challenge/Train_Dataset/Najaf_2015/s1tiling_S1A_IW_GRDH_1SDV_20150408T145907_20150408T145932_005394_006DAD_D74C/38SMA/s1a_38SMA_vv_ASC_20150408t145907.tif' mode='r'>),\n",
      "           ('summer',\n",
      "            'vh',\n",
      "            <open DatasetReader name='/Volumes/other/datasets_and_ML/UNOSAT_Challenge/Train_Dataset/Najaf_2015/s1tiling_S1A_IW_GRDH_1SDV_20150713T145912_20150713T145937_006794_009227_1812/38SMA/s1a_38SMA_vh_ASC_20150713t145912.tif' mode='r'>),\n",
      "           ('summer',\n",
      "            'vv',\n",
      "            <open DatasetReader name='/Volumes/other/datasets_and_ML/UNOSAT_Challenge/Train_Dataset/Najaf_2015/s1tiling_S1A_IW_GRDH_1SDV_20150713T145912_20150713T145937_006794_009227_1812/38SMA/s1a_38SMA_vv_ASC_20150713t145912.tif' mode='r'>),\n",
      "           ('autumn',\n",
      "            'vh',\n",
      "            <open DatasetReader name='/Volumes/other/datasets_and_ML/UNOSAT_Challenge/Train_Dataset/Najaf_2015/s1tiling_S1A_IW_GRDH_1SDV_20151005T145915_20151005T145940_008019_00B39C_78DA/38SMA/s1a_38SMA_vh_ASC_20151005t145915.tif' mode='r'>),\n",
      "           ('autumn',\n",
      "            'vv',\n",
      "            <open DatasetReader name='/Volumes/other/datasets_and_ML/UNOSAT_Challenge/Train_Dataset/Najaf_2015/s1tiling_S1A_IW_GRDH_1SDV_20151005T145915_20151005T145940_008019_00B39C_78DA/38SMA/s1a_38SMA_vv_ASC_20151005t145915.tif' mode='r'>)],\n",
      " 'Nasiryah': [('winter',\n",
      "               'vh',\n",
      "               <open DatasetReader name='/Volumes/other/datasets_and_ML/UNOSAT_Challenge/Train_Dataset/Nasiryah_2015/20150114_38RPV/s1a_38RPV_vh_ASC_20150114t145841.tif' mode='r'>),\n",
      "              ('winter',\n",
      "               'vv',\n",
      "               <open DatasetReader name='/Volumes/other/datasets_and_ML/UNOSAT_Challenge/Train_Dataset/Nasiryah_2015/20150114_38RPV/s1a_38RPV_vv_ASC_20150114t145841.tif' mode='r'>),\n",
      "              ('spring',\n",
      "               'vh',\n",
      "               <open DatasetReader name='/Volumes/other/datasets_and_ML/UNOSAT_Challenge/Train_Dataset/Nasiryah_2015/20150408_38RPV_2/s1a_38RPV_vh_ASC_20150408t145842.tif' mode='r'>),\n",
      "              ('spring',\n",
      "               'vv',\n",
      "               <open DatasetReader name='/Volumes/other/datasets_and_ML/UNOSAT_Challenge/Train_Dataset/Nasiryah_2015/20150408_38RPV_2/s1a_38RPV_vv_ASC_20150408t145842.tif' mode='r'>),\n",
      "              ('summer',\n",
      "               'vh',\n",
      "               <open DatasetReader name='/Volumes/other/datasets_and_ML/UNOSAT_Challenge/Train_Dataset/Nasiryah_2015/20150713_38RPV/s1a_38RPV_vh_ASC_20150713t145847.tif' mode='r'>),\n",
      "              ('summer',\n",
      "               'vv',\n",
      "               <open DatasetReader name='/Volumes/other/datasets_and_ML/UNOSAT_Challenge/Train_Dataset/Nasiryah_2015/20150713_38RPV/s1a_38RPV_vv_ASC_20150713t145847.tif' mode='r'>),\n",
      "              ('autumn',\n",
      "               'vh',\n",
      "               <open DatasetReader name='/Volumes/other/datasets_and_ML/UNOSAT_Challenge/Train_Dataset/Nasiryah_2015/20151017_38RPV/s1a_38RPV_vh_ASC_20151017t145850.tif' mode='r'>),\n",
      "              ('autumn',\n",
      "               'vv',\n",
      "               <open DatasetReader name='/Volumes/other/datasets_and_ML/UNOSAT_Challenge/Train_Dataset/Nasiryah_2015/20151017_38RPV/s1a_38RPV_vv_ASC_20151017t145850.tif' mode='r'>)],\n",
      " 'Souleimaniye': [('winter',\n",
      "                   'vh',\n",
      "                   <open DatasetReader name='/Volumes/other/datasets_and_ML/UNOSAT_Challenge/Train_Dataset/Souleimaniye_2015/s1tiling_S1A_IW_GRDH_1SDV_20150102T145957_20150102T150022_003994_004CF1_CDEF/38SNE/s1a_38SNE_vh_ASC_20150102t145957.tif' mode='r'>),\n",
      "                  ('winter',\n",
      "                   'vv',\n",
      "                   <open DatasetReader name='/Volumes/other/datasets_and_ML/UNOSAT_Challenge/Train_Dataset/Souleimaniye_2015/s1tiling_S1A_IW_GRDH_1SDV_20150102T145957_20150102T150022_003994_004CF1_CDEF/38SNE/s1a_38SNE_vv_ASC_20150102t145957.tif' mode='r'>),\n",
      "                  ('spring',\n",
      "                   'vh',\n",
      "                   <open DatasetReader name='/Volumes/other/datasets_and_ML/UNOSAT_Challenge/Train_Dataset/Souleimaniye_2015/20150420_38SNE/s1a_38SNE_vh_ASC_20150420t145957.tif' mode='r'>),\n",
      "                  ('spring',\n",
      "                   'vv',\n",
      "                   <open DatasetReader name='/Volumes/other/datasets_and_ML/UNOSAT_Challenge/Train_Dataset/Souleimaniye_2015/20150420_38SNE/s1a_38SNE_vv_ASC_20150420t145957.tif' mode='r'>),\n",
      "                  ('summer',\n",
      "                   'vh',\n",
      "                   <open DatasetReader name='/Volumes/other/datasets_and_ML/UNOSAT_Challenge/Train_Dataset/Souleimaniye_2015/s1tiling_S1A_IW_GRDH_1SDV_20150713T150002_20150713T150027_006794_009227_046D/38SNE/s1a_38SNE_vh_ASC_20150713t150002.tif' mode='r'>),\n",
      "                  ('summer',\n",
      "                   'vv',\n",
      "                   <open DatasetReader name='/Volumes/other/datasets_and_ML/UNOSAT_Challenge/Train_Dataset/Souleimaniye_2015/s1tiling_S1A_IW_GRDH_1SDV_20150713T150002_20150713T150027_006794_009227_046D/38SNE/s1a_38SNE_vv_ASC_20150713t150002.tif' mode='r'>),\n",
      "                  ('autumn',\n",
      "                   'vh',\n",
      "                   <open DatasetReader name='/Volumes/other/datasets_and_ML/UNOSAT_Challenge/Train_Dataset/Souleimaniye_2015/s1tiling_S1A_IW_GRDH_1SDV_20151017T150005_20151017T150030_008194_00B856_C0AE/38SNE/s1a_38SNE_vh_ASC_20151017t150005.tif' mode='r'>),\n",
      "                  ('autumn',\n",
      "                   'vv',\n",
      "                   <open DatasetReader name='/Volumes/other/datasets_and_ML/UNOSAT_Challenge/Train_Dataset/Souleimaniye_2015/s1tiling_S1A_IW_GRDH_1SDV_20151017T150005_20151017T150030_008194_00B856_C0AE/38SNE/s1a_38SNE_vv_ASC_20151017t150005.tif' mode='r'>)]}\n"
     ]
    }
   ],
   "source": [
    "pprint(dict_raster_layers)"
   ]
  },
  {
   "cell_type": "code",
   "execution_count": null,
   "metadata": {},
   "outputs": [],
   "source": [
    "def np_arr2polygon_mask(polygons, raster_obj):\n",
    "    polygons_resh = polygons.to_crs(raster_obj.crs)\n",
    "    geoms = polygons_resh['geometry']\n",
    "    \n",
    "    polygon_mask = rio.features.geometry_mask(geometries=geoms,\n",
    "                                       out_shape=(raster_obj.height, raster_obj.width),\n",
    "                                       transform=raster_obj.transform,\n",
    "                                       all_touched=False,\n",
    "                                       invert=True)\n",
    "    print('polygon mask shape:', polygon_mask.shape)\n",
    "    \n",
    "    polygon_mask_int = np.multiply(polygon_mask, 1)\n",
    "    print('sum polygon_mask_int:', sum(sum(polygon_mask_int)))\n",
    "    return polygon_mask_int\n",
    "    "
   ]
  },
  {
   "cell_type": "code",
   "execution_count": 23,
   "metadata": {},
   "outputs": [],
   "source": [
    "def create_training_data(dict_data_train, quantile_clip_max):\n",
    "    dict_arrays = dict()\n",
    "    dict_labels = dict()\n",
    "    \n",
    "    dict_raster_layers = tif2raster(dict_data_train)\n",
    "    dict_polygons = shp2polygons(dict_data_train)\n",
    "    \n",
    "    for area in dict_raster_layers:\n",
    "        print(area)\n",
    "        list_np_arrs_area = []\n",
    "        for season, pol, raster_obj in dict_raster_layers[area]:\n",
    "            print(' ', season, pol)\n",
    "            np_arr = raster_obj.read()[0]\n",
    "            np_arr_norm = process_image(np_arr, quantile_clip_max,  clip_min=0, plotting=False, \n",
    "                                        area=area,  season=season, pol=pol)\n",
    "            list_np_arrs_area.append((season, pol, np_arr_norm))\n",
    "\n",
    "        dict_arrays[area] = list_np_arrs_area\n",
    "        dict_labels[area] = np_arr2polygon_mask(dict_polygons[area], raster_obj)\n",
    "        \n",
    "    return dict_arrays, dict_labels"
   ]
  },
  {
   "cell_type": "code",
   "execution_count": 24,
   "metadata": {},
   "outputs": [
    {
     "name": "stdout",
     "output_type": "stream",
     "text": [
      "Mosul\n",
      "  winter vh\n",
      "  winter vv\n",
      "  spring vh\n",
      "  spring vv\n",
      "  summer vh\n",
      "  summer vv\n",
      "  autumn vh\n",
      "  autumn vv\n"
     ]
    },
    {
     "ename": "NameError",
     "evalue": "name 'np_arr2polygon_mask' is not defined",
     "output_type": "error",
     "traceback": [
      "\u001b[0;31m---------------------------------------------------------------------------\u001b[0m",
      "\u001b[0;31mNameError\u001b[0m                                 Traceback (most recent call last)",
      "\u001b[0;32m<ipython-input-24-44491cdf139b>\u001b[0m in \u001b[0;36m<module>\u001b[0;34m\u001b[0m\n\u001b[0;32m----> 1\u001b[0;31m \u001b[0mdict_arrays\u001b[0m\u001b[0;34m,\u001b[0m \u001b[0mdict_labels\u001b[0m \u001b[0;34m=\u001b[0m \u001b[0mcreate_dicts_training_data\u001b[0m\u001b[0;34m(\u001b[0m\u001b[0mdict_data_train\u001b[0m\u001b[0;34m,\u001b[0m \u001b[0mquantile_clip_max\u001b[0m\u001b[0;34m)\u001b[0m\u001b[0;34m\u001b[0m\u001b[0;34m\u001b[0m\u001b[0m\n\u001b[0m",
      "\u001b[0;32m<ipython-input-23-543661b7e3a3>\u001b[0m in \u001b[0;36mcreate_dicts_training_data\u001b[0;34m(dict_data_train, quantile_clip_max)\u001b[0m\n\u001b[1;32m     17\u001b[0m \u001b[0;34m\u001b[0m\u001b[0m\n\u001b[1;32m     18\u001b[0m         \u001b[0mdict_arrays\u001b[0m\u001b[0;34m[\u001b[0m\u001b[0marea\u001b[0m\u001b[0;34m]\u001b[0m \u001b[0;34m=\u001b[0m \u001b[0mlist_np_arrs_area\u001b[0m\u001b[0;34m\u001b[0m\u001b[0;34m\u001b[0m\u001b[0m\n\u001b[0;32m---> 19\u001b[0;31m         \u001b[0mdict_labels\u001b[0m\u001b[0;34m[\u001b[0m\u001b[0marea\u001b[0m\u001b[0;34m]\u001b[0m \u001b[0;34m=\u001b[0m \u001b[0mnp_arr2polygon_mask\u001b[0m\u001b[0;34m(\u001b[0m\u001b[0mdict_polygons\u001b[0m\u001b[0;34m[\u001b[0m\u001b[0marea\u001b[0m\u001b[0;34m]\u001b[0m\u001b[0;34m,\u001b[0m \u001b[0mraster_obj\u001b[0m\u001b[0;34m)\u001b[0m\u001b[0;34m\u001b[0m\u001b[0;34m\u001b[0m\u001b[0m\n\u001b[0m\u001b[1;32m     20\u001b[0m \u001b[0;34m\u001b[0m\u001b[0m\n\u001b[1;32m     21\u001b[0m     \u001b[0;32mreturn\u001b[0m \u001b[0mdict_arrays\u001b[0m\u001b[0;34m,\u001b[0m \u001b[0mdict_labels\u001b[0m\u001b[0;34m\u001b[0m\u001b[0;34m\u001b[0m\u001b[0m\n",
      "\u001b[0;31mNameError\u001b[0m: name 'np_arr2polygon_mask' is not defined"
     ]
    }
   ],
   "source": [
    "dict_arrays, dict_labels = create_training_data(dict_data_train, quantile_clip_max)"
   ]
  },
  {
   "cell_type": "code",
   "execution_count": 25,
   "metadata": {},
   "outputs": [],
   "source": [
    "def save_stacked_arrays(dict_arrays, dir_save_arrays):\n",
    "    for area in dict_arrays:\n",
    "        print(area)\n",
    "        list_np_arrs_area = []\n",
    "        for season, pol, arr in dict_arrays[area]:\n",
    "            list_np_arrs_area.append(arr)\n",
    "        \n",
    "        path_save = join(dir_save_arrays, area)\n",
    "        np.save(path_save, np.array(list_np_arrs_area))"
   ]
  },
  {
   "cell_type": "code",
   "execution_count": 26,
   "metadata": {},
   "outputs": [
    {
     "name": "stdout",
     "output_type": "stream",
     "text": [
      "Mosul\n",
      "Najaf\n",
      "Nasiryah\n",
      "Souleimaniye\n"
     ]
    }
   ],
   "source": [
    "dict_arrays_stacked = save_stacked_arrays(dict_arrays, dir_save_arrays)"
   ]
  },
  {
   "cell_type": "code",
   "execution_count": null,
   "metadata": {},
   "outputs": [],
   "source": [
    "def save_labels():\n",
    "    pass"
   ]
  }
 ],
 "metadata": {
  "kernelspec": {
   "display_name": "Python [conda env:conda_unosatenv]",
   "language": "python",
   "name": "conda-env-conda_unosatenv-py"
  },
  "language_info": {
   "codemirror_mode": {
    "name": "ipython",
    "version": 3
   },
   "file_extension": ".py",
   "mimetype": "text/x-python",
   "name": "python",
   "nbconvert_exporter": "python",
   "pygments_lexer": "ipython3",
   "version": "3.7.5"
  }
 },
 "nbformat": 4,
 "nbformat_minor": 2
}
