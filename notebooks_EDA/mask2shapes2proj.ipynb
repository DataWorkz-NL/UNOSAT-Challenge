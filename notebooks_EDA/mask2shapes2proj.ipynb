{
 "cells": [
  {
   "cell_type": "code",
   "execution_count": 1,
   "metadata": {},
   "outputs": [],
   "source": [
    "import numpy as np\n",
    "import tifffile as tiff\n",
    "import math\n",
    "from collections import defaultdict\n",
    "from os import listdir\n",
    "from os.path import isfile, join\n",
    "from osgeo import gdal\n",
    "from osgeo import gdal_array\n",
    "from osgeo import osr,ogr,gdalconst\n",
    "import shutil\n",
    "\n",
    "import numpy as np\n",
    "import matplotlib.pyplot as plt\n",
    "from scipy import misc\n",
    "import cv2\n",
    "import shapely\n",
    "from shapely.geometry import MultiPolygon, Polygon\n",
    "from collections import defaultdict\n",
    "import geopandas as gpd\n",
    "import pandas as pd\n",
    "\n",
    "import rasterio.features as features\n",
    "import pandas as pd\n",
    "from geopandas import GeoDataFrame\n",
    "from shapely.geometry import shape\n",
    "from rasterio.transform import from_origin\n",
    "\n",
    "import rasterio as rio"
   ]
  },
  {
   "cell_type": "code",
   "execution_count": 2,
   "metadata": {},
   "outputs": [],
   "source": [
    "def array2raster(newRasterfn, dataset, array, dtype):\n",
    "    \"\"\"\n",
    "    save GTiff file from numpy.array\n",
    "    input:\n",
    "        newRasterfn: save file name\n",
    "        dataset : original tif file\n",
    "        array : numpy.array\n",
    "        dtype: Byte or Float32.\n",
    "    \"\"\"\n",
    "    cols = array.shape[1]\n",
    "    rows = array.shape[0]\n",
    "    originX, pixelWidth, b, originY, d, pixelHeight = dataset.GetGeoTransform()\n",
    "\n",
    "    driver = gdal.GetDriverByName('GTiff')\n",
    "\n",
    "    # set data type to save.\n",
    "    GDT_dtype = gdal.GDT_Unknown\n",
    "    if dtype == \"Byte\":\n",
    "        GDT_dtype = gdal.GDT_Byte\n",
    "    elif dtype == \"Float32\":\n",
    "        GDT_dtype = gdal.GDT_Float32\n",
    "    else:\n",
    "        print(\"Not supported data type.\")\n",
    "\n",
    "    # set number of band.\n",
    "    if array.ndim == 2:\n",
    "        band_num = 1\n",
    "    else:\n",
    "        band_num = array.shape[2]\n",
    "\n",
    "    outRaster = driver.Create(newRasterfn, cols, rows, band_num, GDT_dtype)\n",
    "    outRaster.SetGeoTransform((originX, pixelWidth, 0, originY, 0, pixelHeight))\n",
    "\n",
    "    # Loop over all bands.\n",
    "    for b in range(band_num):\n",
    "        outband = outRaster.GetRasterBand(b + 1)\n",
    "        # Read in the band's data into the third dimension of our array\n",
    "        if band_num == 1:\n",
    "            outband.WriteArray(array)\n",
    "        else:\n",
    "            outband.WriteArray(array[:,:,b])\n",
    "\n",
    "    # setteing srs from input tif file.\n",
    "    prj=dataset.GetProjection()\n",
    "    outRasterSRS = osr.SpatialReference(wkt=prj)\n",
    "    outRaster.SetProjection(outRasterSRS.ExportToWkt())\n",
    "    outband.FlushCache()\n",
    "\n",
    "\n",
    "\n",
    "def rasterize_shp(template_raster, shp, dtype, options, output, nodata_val=0):\n",
    "    print (template_raster)\n",
    "    print (shp)\n",
    "    print (dtype)\n",
    "    print (options)\n",
    "    model_dataset = gdal.Open(template_raster)\n",
    "    \n",
    "    if isinstance(shp, str):\n",
    "        print('shp from file')\n",
    "        shape_dataset = ogr.Open(shp)\n",
    "    elif isinstance(shp, shapely.geometry.multipolygon.MultiPolygon):\n",
    "        print('shp from polygon')\n",
    "        shape_dataset = shp\n",
    "    else:\n",
    "        shape_dataset = shp\n",
    "    \n",
    "    print(type(shape_dataset))\n",
    "            \n",
    "    #shape_layer = shape_dataset.GetLayer()\n",
    "    \n",
    "    mem_drv = gdal.GetDriverByName('MEM')\n",
    "    mem_raster = mem_drv.Create(\n",
    "        '',\n",
    "        model_dataset.RasterXSize,\n",
    "        model_dataset.RasterYSize,\n",
    "        1,\n",
    "        dtype\n",
    "    )\n",
    "    mem_raster.SetProjection(model_dataset.GetProjection())\n",
    "    mem_raster.SetGeoTransform(model_dataset.GetGeoTransform())\n",
    "    mem_band = mem_raster.GetRasterBand(1)\n",
    "    mem_band.Fill(nodata_val)\n",
    "    mem_band.SetNoDataValue(nodata_val)\n",
    "\n",
    "    err = gdal.RasterizeLayer(\n",
    "        mem_raster,\n",
    "        [1],\n",
    "        shape_dataset,\n",
    "        None,\n",
    "        None,\n",
    "        [1],\n",
    "        options\n",
    "    )\n",
    "    assert err == gdal.CE_None\n",
    "    label_array = mem_raster.ReadAsArray()\n",
    "    label_array[label_array==255] = 1\n",
    "    array2raster(output, model_dataset, label_array, 'Byte')"
   ]
  },
  {
   "cell_type": "code",
   "execution_count": 3,
   "metadata": {},
   "outputs": [],
   "source": [
    "def mask_to_polygons(mask, epsilon=10., min_area=10.):\n",
    "    \"\"\"Convert a mask ndarray (binarized image) to Multipolygons\"\"\"\n",
    "    # first, find contours with cv2: it's much faster than shapely\n",
    "    contours, hierarchy = cv2.findContours(mask,\n",
    "                                  cv2.RETR_CCOMP,\n",
    "                                  cv2.CHAIN_APPROX_NONE)\n",
    "    if not contours:\n",
    "        return MultiPolygon()\n",
    "    # now messy stuff to associate parent and child contours\n",
    "    cnt_children = defaultdict(list)\n",
    "    child_contours = set()\n",
    "    assert hierarchy.shape[0] == 1\n",
    "    # http://docs.opencv.org/3.1.0/d9/d8b/tutorial_py_contours_hierarchy.html\n",
    "    for idx, (_, _, _, parent_idx) in enumerate(hierarchy[0]):\n",
    "        if parent_idx != -1:\n",
    "            child_contours.add(idx)\n",
    "            cnt_children[parent_idx].append(contours[idx])\n",
    "    # create actual polygons filtering by area (removes artifacts)\n",
    "    all_polygons = []\n",
    "    for idx, cnt in enumerate(contours):\n",
    "        if idx not in child_contours and cv2.contourArea(cnt) >= min_area:\n",
    "            assert cnt.shape[1] == 1\n",
    "            poly = Polygon(\n",
    "                shell=cnt[:, 0, :],\n",
    "                holes=[c[:, 0, :] for c in cnt_children.get(idx, [])\n",
    "                       if cv2.contourArea(c) >= min_area])\n",
    "            all_polygons.append(poly)\n",
    "    all_polygons = MultiPolygon(all_polygons)\n",
    "\n",
    "    return all_polygons\n",
    "\n",
    "def mask_for_polygons(polygons, im_size):\n",
    "    \"\"\"Convert a polygon or multipolygon list back to\n",
    "       an image mask ndarray\"\"\"\n",
    "    img_mask = np.zeros(im_size, np.uint8)\n",
    "    if not polygons:\n",
    "        return img_mask\n",
    "    # function to round and convert to int\n",
    "    int_coords = lambda x: np.array(x).round().astype(np.int32)\n",
    "    exteriors = [int_coords(poly.exterior.coords) for poly in polygons]\n",
    "    interiors = [int_coords(pi.coords) for poly in polygons\n",
    "                 for pi in poly.interiors]\n",
    "    cv2.fillPoly(img_mask, exteriors, 1)\n",
    "    cv2.fillPoly(img_mask, interiors, 0)\n",
    "    return img_mask\n",
    "\n",
    "def create_test_gpd_polygon(list_coords):\n",
    "    test_polygon = Polygon(list_coords)\n",
    "    test_mask = mask_for_polygons([test_polygon], im_size=(10,10))\n",
    "    return mask_to_polygons(test_mask, epsilon=10., min_area=10.)"
   ]
  },
  {
   "cell_type": "code",
   "execution_count": 4,
   "metadata": {},
   "outputs": [],
   "source": [
    "# local paths\n",
    "path_data = '/Volumes/other/datasets_and_ML/UNOSAT_Challenge/Train_Dataset'\n",
    "area = 'Mosul_2015'\n",
    "path_file = 's1tiling_S1A_IW_GRDH_1SDV_20150108T030926_20150108T030951_004074_004EC3_B908/38SLF/s1a_38SLF_vv_DES_20150108t030926.tif'\n",
    "path_file_border_mask = 's1tiling_S1A_IW_GRDH_1SDV_20151222T030932_20151222T030957_009149_00D2A0_F04A/38SLF/s1a_38SLF_vv_DES_20151222t030932_BorderMask.tif'\n",
    "\n",
    "\n",
    "shape_file = '38SLF_Mosul.shp'\n",
    "file_label = shape_file[-0:-4] + path_file[-19:-4]\n",
    "\n",
    "path_raster = join(path_data, area, path_file)\n",
    "path_border_mask = join(path_data, area, path_file_border_mask)\n",
    "path_shape_file = join(path_data, area, shape_file)\n",
    "#path_shape_file = '/Users/jurriaan/ML/UNOSAT_Challenge/UNOSAT-Challenge/38SLF_Mosul.shp'\n",
    "\n",
    "output = join('/Volumes/other/datasets_and_ML/UNOSAT_Challenge/output_test', 'mosul_test.tif')"
   ]
  },
  {
   "cell_type": "code",
   "execution_count": 5,
   "metadata": {},
   "outputs": [],
   "source": [
    "# see mask2polygon.ipynb\n",
    "list_coords = [(0, 0), (10, 20), (40, 50), (90, 30)]\n",
    "test_polygon = Polygon(list_coords)\n",
    "test_mask = mask_for_polygons([test_polygon], im_size=(1000,1000))\n",
    "test_shapes = mask_to_polygons(test_mask, epsilon=10., min_area=10.)"
   ]
  },
  {
   "cell_type": "code",
   "execution_count": 6,
   "metadata": {},
   "outputs": [
    {
     "data": {
      "text/plain": [
       "array([[1, 1, 0, ..., 0, 0, 0],\n",
       "       [1, 1, 1, ..., 0, 0, 0],\n",
       "       [0, 1, 1, ..., 0, 0, 0],\n",
       "       ...,\n",
       "       [0, 0, 0, ..., 0, 0, 0],\n",
       "       [0, 0, 0, ..., 0, 0, 0],\n",
       "       [0, 0, 0, ..., 0, 0, 0]], dtype=uint8)"
      ]
     },
     "execution_count": 6,
     "metadata": {},
     "output_type": "execute_result"
    }
   ],
   "source": [
    "test_mask"
   ]
  },
  {
   "cell_type": "code",
   "execution_count": 7,
   "metadata": {},
   "outputs": [
    {
     "data": {
      "image/svg+xml": [
       "<svg xmlns=\"http://www.w3.org/2000/svg\" xmlns:xlink=\"http://www.w3.org/1999/xlink\" width=\"100.0\" height=\"100.0\" viewBox=\"-3.6 -3.6 97.19999999999999 57.2\" preserveAspectRatio=\"xMinYMin meet\"><g transform=\"matrix(1,0,0,-1,0,50.0)\"><g><path fill-rule=\"evenodd\" fill=\"#ff3333\" stroke=\"#555555\" stroke-width=\"1.9439999999999997\" opacity=\"0.6\" d=\"M 0.0,0.0 L 0.0,1.0 L 1.0,2.0 L 1.0,3.0 L 2.0,4.0 L 2.0,5.0 L 3.0,6.0 L 3.0,7.0 L 4.0,8.0 L 4.0,9.0 L 5.0,10.0 L 5.0,11.0 L 6.0,12.0 L 6.0,13.0 L 7.0,14.0 L 7.0,15.0 L 8.0,16.0 L 8.0,17.0 L 9.0,18.0 L 9.0,19.0 L 10.0,20.0 L 11.0,21.0 L 12.0,22.0 L 13.0,23.0 L 14.0,24.0 L 15.0,25.0 L 16.0,26.0 L 17.0,27.0 L 18.0,28.0 L 19.0,29.0 L 20.0,30.0 L 21.0,31.0 L 22.0,32.0 L 23.0,33.0 L 24.0,34.0 L 25.0,35.0 L 26.0,36.0 L 27.0,37.0 L 28.0,38.0 L 29.0,39.0 L 30.0,40.0 L 31.0,41.0 L 32.0,42.0 L 33.0,43.0 L 34.0,44.0 L 35.0,45.0 L 36.0,46.0 L 37.0,47.0 L 38.0,48.0 L 39.0,49.0 L 40.0,50.0 L 41.0,50.0 L 42.0,49.0 L 43.0,49.0 L 44.0,48.0 L 45.0,48.0 L 46.0,48.0 L 47.0,47.0 L 48.0,47.0 L 49.0,46.0 L 50.0,46.0 L 51.0,46.0 L 52.0,45.0 L 53.0,45.0 L 54.0,44.0 L 55.0,44.0 L 56.0,44.0 L 57.0,43.0 L 58.0,43.0 L 59.0,42.0 L 60.0,42.0 L 61.0,42.0 L 62.0,41.0 L 63.0,41.0 L 64.0,40.0 L 65.0,40.0 L 66.0,40.0 L 67.0,39.0 L 68.0,39.0 L 69.0,38.0 L 70.0,38.0 L 71.0,38.0 L 72.0,37.0 L 73.0,37.0 L 74.0,36.0 L 75.0,36.0 L 76.0,36.0 L 77.0,35.0 L 78.0,35.0 L 79.0,34.0 L 80.0,34.0 L 81.0,34.0 L 82.0,33.0 L 83.0,33.0 L 84.0,32.0 L 85.0,32.0 L 86.0,32.0 L 87.0,31.0 L 88.0,31.0 L 89.0,30.0 L 90.0,30.0 L 89.0,30.0 L 88.0,29.0 L 87.0,29.0 L 86.0,29.0 L 85.0,28.0 L 84.0,28.0 L 83.0,28.0 L 82.0,27.0 L 81.0,27.0 L 80.0,27.0 L 79.0,26.0 L 78.0,26.0 L 77.0,26.0 L 76.0,25.0 L 75.0,25.0 L 74.0,25.0 L 73.0,24.0 L 72.0,24.0 L 71.0,24.0 L 70.0,23.0 L 69.0,23.0 L 68.0,23.0 L 67.0,22.0 L 66.0,22.0 L 65.0,22.0 L 64.0,21.0 L 63.0,21.0 L 62.0,21.0 L 61.0,20.0 L 60.0,20.0 L 59.0,20.0 L 58.0,19.0 L 57.0,19.0 L 56.0,19.0 L 55.0,18.0 L 54.0,18.0 L 53.0,18.0 L 52.0,17.0 L 51.0,17.0 L 50.0,17.0 L 49.0,16.0 L 48.0,16.0 L 47.0,16.0 L 46.0,15.0 L 45.0,15.0 L 44.0,15.0 L 43.0,14.0 L 42.0,14.0 L 41.0,14.0 L 40.0,13.0 L 39.0,13.0 L 38.0,13.0 L 37.0,12.0 L 36.0,12.0 L 35.0,12.0 L 34.0,11.0 L 33.0,11.0 L 32.0,11.0 L 31.0,10.0 L 30.0,10.0 L 29.0,10.0 L 28.0,9.0 L 27.0,9.0 L 26.0,9.0 L 25.0,8.0 L 24.0,8.0 L 23.0,8.0 L 22.0,7.0 L 21.0,7.0 L 20.0,7.0 L 19.0,6.0 L 18.0,6.0 L 17.0,6.0 L 16.0,5.0 L 15.0,5.0 L 14.0,5.0 L 13.0,4.0 L 12.0,4.0 L 11.0,4.0 L 10.0,3.0 L 9.0,3.0 L 8.0,3.0 L 7.0,2.0 L 6.0,2.0 L 5.0,2.0 L 4.0,1.0 L 3.0,1.0 L 2.0,1.0 L 1.0,0.0 L 0.0,0.0 z\" /></g></g></svg>"
      ],
      "text/plain": [
       "<shapely.geometry.multipolygon.MultiPolygon at 0x12a2bb410>"
      ]
     },
     "execution_count": 7,
     "metadata": {},
     "output_type": "execute_result"
    }
   ],
   "source": [
    "test_shapes"
   ]
  },
  {
   "cell_type": "code",
   "execution_count": 8,
   "metadata": {},
   "outputs": [
    {
     "data": {
      "text/plain": [
       "shapely.geometry.multipolygon.MultiPolygon"
      ]
     },
     "execution_count": 8,
     "metadata": {},
     "output_type": "execute_result"
    }
   ],
   "source": [
    "type(test_shapes)"
   ]
  },
  {
   "cell_type": "code",
   "execution_count": 9,
   "metadata": {},
   "outputs": [
    {
     "data": {
      "image/svg+xml": [
       "<svg xmlns=\"http://www.w3.org/2000/svg\" xmlns:xlink=\"http://www.w3.org/1999/xlink\" width=\"100.0\" height=\"100.0\" viewBox=\"-3.6 -3.6 97.19999999999999 57.2\" preserveAspectRatio=\"xMinYMin meet\"><g transform=\"matrix(1,0,0,-1,0,50.0)\"><g><path fill-rule=\"evenodd\" fill=\"#ff3333\" stroke=\"#555555\" stroke-width=\"1.9439999999999997\" opacity=\"0.6\" d=\"M 0.0,0.0 L 0.0,1.0 L 1.0,2.0 L 1.0,3.0 L 2.0,4.0 L 2.0,5.0 L 3.0,6.0 L 3.0,7.0 L 4.0,8.0 L 4.0,9.0 L 5.0,10.0 L 5.0,11.0 L 6.0,12.0 L 6.0,13.0 L 7.0,14.0 L 7.0,15.0 L 8.0,16.0 L 8.0,17.0 L 9.0,18.0 L 9.0,19.0 L 10.0,20.0 L 11.0,21.0 L 12.0,22.0 L 13.0,23.0 L 14.0,24.0 L 15.0,25.0 L 16.0,26.0 L 17.0,27.0 L 18.0,28.0 L 19.0,29.0 L 20.0,30.0 L 21.0,31.0 L 22.0,32.0 L 23.0,33.0 L 24.0,34.0 L 25.0,35.0 L 26.0,36.0 L 27.0,37.0 L 28.0,38.0 L 29.0,39.0 L 30.0,40.0 L 31.0,41.0 L 32.0,42.0 L 33.0,43.0 L 34.0,44.0 L 35.0,45.0 L 36.0,46.0 L 37.0,47.0 L 38.0,48.0 L 39.0,49.0 L 40.0,50.0 L 41.0,50.0 L 42.0,49.0 L 43.0,49.0 L 44.0,48.0 L 45.0,48.0 L 46.0,48.0 L 47.0,47.0 L 48.0,47.0 L 49.0,46.0 L 50.0,46.0 L 51.0,46.0 L 52.0,45.0 L 53.0,45.0 L 54.0,44.0 L 55.0,44.0 L 56.0,44.0 L 57.0,43.0 L 58.0,43.0 L 59.0,42.0 L 60.0,42.0 L 61.0,42.0 L 62.0,41.0 L 63.0,41.0 L 64.0,40.0 L 65.0,40.0 L 66.0,40.0 L 67.0,39.0 L 68.0,39.0 L 69.0,38.0 L 70.0,38.0 L 71.0,38.0 L 72.0,37.0 L 73.0,37.0 L 74.0,36.0 L 75.0,36.0 L 76.0,36.0 L 77.0,35.0 L 78.0,35.0 L 79.0,34.0 L 80.0,34.0 L 81.0,34.0 L 82.0,33.0 L 83.0,33.0 L 84.0,32.0 L 85.0,32.0 L 86.0,32.0 L 87.0,31.0 L 88.0,31.0 L 89.0,30.0 L 90.0,30.0 L 89.0,30.0 L 88.0,29.0 L 87.0,29.0 L 86.0,29.0 L 85.0,28.0 L 84.0,28.0 L 83.0,28.0 L 82.0,27.0 L 81.0,27.0 L 80.0,27.0 L 79.0,26.0 L 78.0,26.0 L 77.0,26.0 L 76.0,25.0 L 75.0,25.0 L 74.0,25.0 L 73.0,24.0 L 72.0,24.0 L 71.0,24.0 L 70.0,23.0 L 69.0,23.0 L 68.0,23.0 L 67.0,22.0 L 66.0,22.0 L 65.0,22.0 L 64.0,21.0 L 63.0,21.0 L 62.0,21.0 L 61.0,20.0 L 60.0,20.0 L 59.0,20.0 L 58.0,19.0 L 57.0,19.0 L 56.0,19.0 L 55.0,18.0 L 54.0,18.0 L 53.0,18.0 L 52.0,17.0 L 51.0,17.0 L 50.0,17.0 L 49.0,16.0 L 48.0,16.0 L 47.0,16.0 L 46.0,15.0 L 45.0,15.0 L 44.0,15.0 L 43.0,14.0 L 42.0,14.0 L 41.0,14.0 L 40.0,13.0 L 39.0,13.0 L 38.0,13.0 L 37.0,12.0 L 36.0,12.0 L 35.0,12.0 L 34.0,11.0 L 33.0,11.0 L 32.0,11.0 L 31.0,10.0 L 30.0,10.0 L 29.0,10.0 L 28.0,9.0 L 27.0,9.0 L 26.0,9.0 L 25.0,8.0 L 24.0,8.0 L 23.0,8.0 L 22.0,7.0 L 21.0,7.0 L 20.0,7.0 L 19.0,6.0 L 18.0,6.0 L 17.0,6.0 L 16.0,5.0 L 15.0,5.0 L 14.0,5.0 L 13.0,4.0 L 12.0,4.0 L 11.0,4.0 L 10.0,3.0 L 9.0,3.0 L 8.0,3.0 L 7.0,2.0 L 6.0,2.0 L 5.0,2.0 L 4.0,1.0 L 3.0,1.0 L 2.0,1.0 L 1.0,0.0 L 0.0,0.0 z\" /></g></g></svg>"
      ],
      "text/plain": [
       "<shapely.geometry.multipolygon.MultiPolygon at 0x12a2cb1d0>"
      ]
     },
     "execution_count": 9,
     "metadata": {},
     "output_type": "execute_result"
    }
   ],
   "source": [
    "shape(test_shapes)"
   ]
  },
  {
   "cell_type": "code",
   "execution_count": 23,
   "metadata": {},
   "outputs": [
    {
     "name": "stdout",
     "output_type": "stream",
     "text": [
      "/Volumes/other/datasets_and_ML/UNOSAT_Challenge/Train_Dataset/Mosul_2015/s1tiling_S1A_IW_GRDH_1SDV_20150108T030926_20150108T030951_004074_004EC3_B908/38SLF/s1a_38SLF_vv_DES_20150108t030926.tif\n",
      "MULTIPOLYGON (((0 0, 0 1, 1 2, 1 3, 2 4, 2 5, 3 6, 3 7, 4 8, 4 9, 5 10, 5 11, 6 12, 6 13, 7 14, 7 15, 8 16, 8 17, 9 18, 9 19, 10 20, 11 21, 12 22, 13 23, 14 24, 15 25, 16 26, 17 27, 18 28, 19 29, 20 30, 21 31, 22 32, 23 33, 24 34, 25 35, 26 36, 27 37, 28 38, 29 39, 30 40, 31 41, 32 42, 33 43, 34 44, 35 45, 36 46, 37 47, 38 48, 39 49, 40 50, 41 50, 42 49, 43 49, 44 48, 45 48, 46 48, 47 47, 48 47, 49 46, 50 46, 51 46, 52 45, 53 45, 54 44, 55 44, 56 44, 57 43, 58 43, 59 42, 60 42, 61 42, 62 41, 63 41, 64 40, 65 40, 66 40, 67 39, 68 39, 69 38, 70 38, 71 38, 72 37, 73 37, 74 36, 75 36, 76 36, 77 35, 78 35, 79 34, 80 34, 81 34, 82 33, 83 33, 84 32, 85 32, 86 32, 87 31, 88 31, 89 30, 90 30, 89 30, 88 29, 87 29, 86 29, 85 28, 84 28, 83 28, 82 27, 81 27, 80 27, 79 26, 78 26, 77 26, 76 25, 75 25, 74 25, 73 24, 72 24, 71 24, 70 23, 69 23, 68 23, 67 22, 66 22, 65 22, 64 21, 63 21, 62 21, 61 20, 60 20, 59 20, 58 19, 57 19, 56 19, 55 18, 54 18, 53 18, 52 17, 51 17, 50 17, 49 16, 48 16, 47 16, 46 15, 45 15, 44 15, 43 14, 42 14, 41 14, 40 13, 39 13, 38 13, 37 12, 36 12, 35 12, 34 11, 33 11, 32 11, 31 10, 30 10, 29 10, 28 9, 27 9, 26 9, 25 8, 24 8, 23 8, 22 7, 21 7, 20 7, 19 6, 18 6, 17 6, 16 5, 15 5, 14 5, 13 4, 12 4, 11 4, 10 3, 9 3, 8 3, 7 2, 6 2, 5 2, 4 1, 3 1, 2 1, 1 0, 0 0)))\n",
      "1\n",
      "['ATTRIBUTE=DN', 'ALL_TOUCHED=TRUE']\n",
      "shp from polygon\n",
      "<class 'shapely.geometry.multipolygon.MultiPolygon'>\n"
     ]
    },
    {
     "ename": "TypeError",
     "evalue": "in method 'RasterizeLayer', argument 4 of type 'OGRLayerShadow *'",
     "output_type": "error",
     "traceback": [
      "\u001b[0;31m---------------------------------------------------------------------------\u001b[0m",
      "\u001b[0;31mTypeError\u001b[0m                                 Traceback (most recent call last)",
      "\u001b[0;32m<ipython-input-23-7a60f6201d25>\u001b[0m in \u001b[0;36m<module>\u001b[0;34m\u001b[0m\n\u001b[1;32m      1\u001b[0m \u001b[0moutput\u001b[0m \u001b[0;34m=\u001b[0m \u001b[0;34m'rasterize_try_out1.tif'\u001b[0m\u001b[0;34m\u001b[0m\u001b[0;34m\u001b[0m\u001b[0m\n\u001b[1;32m      2\u001b[0m \u001b[0;34m\u001b[0m\u001b[0m\n\u001b[0;32m----> 3\u001b[0;31m \u001b[0mrasterize_shp\u001b[0m\u001b[0;34m(\u001b[0m\u001b[0mpath_raster\u001b[0m\u001b[0;34m,\u001b[0m \u001b[0mtest_shapes\u001b[0m\u001b[0;34m,\u001b[0m \u001b[0mgdal\u001b[0m\u001b[0;34m.\u001b[0m\u001b[0mGDT_Byte\u001b[0m\u001b[0;34m,\u001b[0m \u001b[0;34m[\u001b[0m\u001b[0;34m\"ATTRIBUTE=DN\"\u001b[0m\u001b[0;34m,\u001b[0m\u001b[0;34m\"ALL_TOUCHED=TRUE\"\u001b[0m\u001b[0;34m]\u001b[0m\u001b[0;34m,\u001b[0m \u001b[0moutput\u001b[0m\u001b[0;34m)\u001b[0m\u001b[0;34m\u001b[0m\u001b[0;34m\u001b[0m\u001b[0m\n\u001b[0m",
      "\u001b[0;32m<ipython-input-15-5a491aabfe62>\u001b[0m in \u001b[0;36mrasterize_shp\u001b[0;34m(template_raster, shp, dtype, options, output, nodata_val)\u001b[0m\n\u001b[1;32m     90\u001b[0m         \u001b[0;32mNone\u001b[0m\u001b[0;34m,\u001b[0m\u001b[0;34m\u001b[0m\u001b[0;34m\u001b[0m\u001b[0m\n\u001b[1;32m     91\u001b[0m         \u001b[0;34m[\u001b[0m\u001b[0;36m1\u001b[0m\u001b[0;34m]\u001b[0m\u001b[0;34m,\u001b[0m\u001b[0;34m\u001b[0m\u001b[0;34m\u001b[0m\u001b[0m\n\u001b[0;32m---> 92\u001b[0;31m         \u001b[0moptions\u001b[0m\u001b[0;34m\u001b[0m\u001b[0;34m\u001b[0m\u001b[0m\n\u001b[0m\u001b[1;32m     93\u001b[0m     )\n\u001b[1;32m     94\u001b[0m     \u001b[0;32massert\u001b[0m \u001b[0merr\u001b[0m \u001b[0;34m==\u001b[0m \u001b[0mgdal\u001b[0m\u001b[0;34m.\u001b[0m\u001b[0mCE_None\u001b[0m\u001b[0;34m\u001b[0m\u001b[0;34m\u001b[0m\u001b[0m\n",
      "\u001b[0;32m~/opt/anaconda3/envs/conda_unosatenv/lib/python3.7/site-packages/osgeo/gdal.py\u001b[0m in \u001b[0;36mRasterizeLayer\u001b[0;34m(*args, **kwargs)\u001b[0m\n\u001b[1;32m   3124\u001b[0m \u001b[0;32mdef\u001b[0m \u001b[0mRasterizeLayer\u001b[0m\u001b[0;34m(\u001b[0m\u001b[0;34m*\u001b[0m\u001b[0margs\u001b[0m\u001b[0;34m,\u001b[0m \u001b[0;34m**\u001b[0m\u001b[0mkwargs\u001b[0m\u001b[0;34m)\u001b[0m\u001b[0;34m:\u001b[0m\u001b[0;34m\u001b[0m\u001b[0;34m\u001b[0m\u001b[0m\n\u001b[1;32m   3125\u001b[0m     \u001b[0;34m\"\"\"RasterizeLayer(Dataset dataset, int bands, Layer layer, void * pfnTransformer=None, void * pTransformArg=None, int burn_values=0, char ** options=None, GDALProgressFunc callback=0, void * callback_data=None) -> int\"\"\"\u001b[0m\u001b[0;34m\u001b[0m\u001b[0;34m\u001b[0m\u001b[0m\n\u001b[0;32m-> 3126\u001b[0;31m     \u001b[0;32mreturn\u001b[0m \u001b[0m_gdal\u001b[0m\u001b[0;34m.\u001b[0m\u001b[0mRasterizeLayer\u001b[0m\u001b[0;34m(\u001b[0m\u001b[0;34m*\u001b[0m\u001b[0margs\u001b[0m\u001b[0;34m,\u001b[0m \u001b[0;34m**\u001b[0m\u001b[0mkwargs\u001b[0m\u001b[0;34m)\u001b[0m\u001b[0;34m\u001b[0m\u001b[0;34m\u001b[0m\u001b[0m\n\u001b[0m\u001b[1;32m   3127\u001b[0m \u001b[0;34m\u001b[0m\u001b[0m\n\u001b[1;32m   3128\u001b[0m \u001b[0;32mdef\u001b[0m \u001b[0mPolygonize\u001b[0m\u001b[0;34m(\u001b[0m\u001b[0;34m*\u001b[0m\u001b[0margs\u001b[0m\u001b[0;34m,\u001b[0m \u001b[0;34m**\u001b[0m\u001b[0mkwargs\u001b[0m\u001b[0;34m)\u001b[0m\u001b[0;34m:\u001b[0m\u001b[0;34m\u001b[0m\u001b[0;34m\u001b[0m\u001b[0m\n",
      "\u001b[0;31mTypeError\u001b[0m: in method 'RasterizeLayer', argument 4 of type 'OGRLayerShadow *'"
     ]
    }
   ],
   "source": [
    "output = 'rasterize_try_out1.tif'\n",
    "\n",
    "rasterize_shp(path_raster, test_shapes, gdal.GDT_Byte, [\"ATTRIBUTE=DN\",\"ALL_TOUCHED=TRUE\"], output)"
   ]
  },
  {
   "cell_type": "code",
   "execution_count": 78,
   "metadata": {},
   "outputs": [
    {
     "ename": "NameError",
     "evalue": "name 'outds' is not defined",
     "output_type": "error",
     "traceback": [
      "\u001b[0;31m---------------------------------------------------------------------------\u001b[0m",
      "\u001b[0;31mNameError\u001b[0m                                 Traceback (most recent call last)",
      "\u001b[0;32m<ipython-input-78-3068372de75e>\u001b[0m in \u001b[0;36m<module>\u001b[0;34m\u001b[0m\n\u001b[1;32m     11\u001b[0m \u001b[0mgeotrans\u001b[0m\u001b[0;34m=\u001b[0m\u001b[0mraster_obj\u001b[0m\u001b[0;34m.\u001b[0m\u001b[0mGetGeoTransform\u001b[0m\u001b[0;34m(\u001b[0m\u001b[0;34m)\u001b[0m  \u001b[0;31m#get GeoTranform from existed 'data0'\u001b[0m\u001b[0;34m\u001b[0m\u001b[0;34m\u001b[0m\u001b[0m\n\u001b[1;32m     12\u001b[0m \u001b[0mproj\u001b[0m\u001b[0;34m=\u001b[0m\u001b[0mraster_obj\u001b[0m\u001b[0;34m.\u001b[0m\u001b[0mGetProjection\u001b[0m\u001b[0;34m(\u001b[0m\u001b[0;34m)\u001b[0m \u001b[0;31m#you can get from a exsited tif or import\u001b[0m\u001b[0;34m\u001b[0m\u001b[0;34m\u001b[0m\u001b[0m\n\u001b[0;32m---> 13\u001b[0;31m \u001b[0moutds\u001b[0m\u001b[0;34m.\u001b[0m\u001b[0mSetGeoTransform\u001b[0m\u001b[0;34m(\u001b[0m\u001b[0mgeotrans\u001b[0m\u001b[0;34m)\u001b[0m\u001b[0;34m\u001b[0m\u001b[0;34m\u001b[0m\u001b[0m\n\u001b[0m\u001b[1;32m     14\u001b[0m \u001b[0moutds\u001b[0m\u001b[0;34m.\u001b[0m\u001b[0mSetProjection\u001b[0m\u001b[0;34m(\u001b[0m\u001b[0mproj\u001b[0m\u001b[0;34m)\u001b[0m\u001b[0;34m\u001b[0m\u001b[0;34m\u001b[0m\u001b[0m\n\u001b[1;32m     15\u001b[0m \u001b[0moutds\u001b[0m\u001b[0;34m.\u001b[0m\u001b[0mFlushCache\u001b[0m\u001b[0;34m(\u001b[0m\u001b[0;34m)\u001b[0m\u001b[0;34m\u001b[0m\u001b[0;34m\u001b[0m\u001b[0m\n",
      "\u001b[0;31mNameError\u001b[0m: name 'outds' is not defined"
     ]
    }
   ],
   "source": [
    "# https://stackoverflow.com/questions/37648439/simplest-way-to-save-array-into-raster-file-in-python\n",
    "\n",
    "# x_pixels = 100  # number of pixels in x\n",
    "# y_pixels = 100  # number of pixels in y\n",
    "# driver = gdal.GetDriverByName('GTiff')\n",
    "# dataset = driver.Create(dst_filename,x_pixels, y_pixels, 1,gdal.GDT_Float32)\n",
    "# dataset.GetRasterBand(1).WriteArray(test_mask)\n",
    "\n",
    "# # follow code is adding GeoTranform and Projection\n",
    "# raster_obj = gdal.Open(path_raster)\n",
    "# geotrans=raster_obj.GetGeoTransform()  #get GeoTranform from existed 'data0'\n",
    "# proj=raster_obj.GetProjection() #you can get from a exsited tif or import \n",
    "# outds.SetGeoTransform(geotrans)\n",
    "# outds.SetProjection(proj)\n",
    "# outds.FlushCache()\n",
    "# outds=None\n",
    "\n",
    "#not working"
   ]
  },
  {
   "cell_type": "code",
   "execution_count": 10,
   "metadata": {},
   "outputs": [],
   "source": [
    "dst_filename = 'test_output.tiff'\n",
    "raster_obj = gdal.Open(path_raster)\n",
    "array2raster(dst_filename, raster_obj, test_mask, dtype='Float32')\n",
    "# this works :)!! \n",
    "# but now I have a raster, but I actually need a shape file :("
   ]
  },
  {
   "cell_type": "code",
   "execution_count": 12,
   "metadata": {},
   "outputs": [
    {
     "data": {
      "text/plain": [
       "BoundingBox(left=300000.0, bottom=3990240.0, right=409790.0, top=4100040.0)"
      ]
     },
     "execution_count": 12,
     "metadata": {},
     "output_type": "execute_result"
    }
   ],
   "source": [
    "# open raster data\n",
    "raster_obj= rio.open(path_raster)\n",
    "# optional - view spatial extent\n",
    "raster_obj.bounds"
   ]
  },
  {
   "cell_type": "code",
   "execution_count": null,
   "metadata": {},
   "outputs": [],
   "source": []
  },
  {
   "cell_type": "code",
   "execution_count": 13,
   "metadata": {},
   "outputs": [],
   "source": [
    "# https://gis.stackexchange.com/questions/166074/create-shapefile-of-raster-outline-using-python\n",
    "bounds = raster_obj.bounds\n",
    "\n",
    "dx = 1\n",
    "\n",
    "# XY = [504675.55,7695881.9]\n",
    "# nx = 1000 \n",
    "# west = XY[0]-(nx*dx)/2\n",
    "# north = XY[1]+(nx*dx)/2\n",
    "\n",
    "\n",
    "Transform = from_origin(bounds.left, bounds.top, dx,dx)\n",
    "\n",
    "# Array = np.zeros(shape = (10,10))\n",
    "# Array[2:4,2:4] = 1\n",
    "# Array[6:9,6:7] = 2\n",
    "\n",
    "d = {}\n",
    "d['val']=list()\n",
    "geometry = list()\n",
    "\n",
    "for shp, val in features.shapes(test_mask.astype('int16'), transform=Transform):\n",
    "    d['val'].append(val)\n",
    "    geometry.append(shape(shp))\n",
    "    #print('%s: %s' % (val, shape(shp)))\n",
    "    \n",
    "df = pd.DataFrame(data=d)\n",
    "geo_df = GeoDataFrame(df,crs={'init': 'EPSG:32638'},geometry = geometry)\n",
    "geo_df['area'] =  geo_df.area \n",
    "geo_df.to_file('JustSomeRectanglesInTheNWT.shp', driver = 'ESRI Shapefile')"
   ]
  },
  {
   "cell_type": "code",
   "execution_count": 24,
   "metadata": {},
   "outputs": [
    {
     "name": "stdout",
     "output_type": "stream",
     "text": [
      "POLYGON ((300000 4100040, 300000 4100038, 300001 4100038, 300001 4100036, 300002 4100036, 300002 4100034, 300003 4100034, 300003 4100032, 300004 4100032, 300004 4100030, 300005 4100030, 300005 4100028, 300006 4100028, 300006 4100026, 300007 4100026, 300007 4100024, 300008 4100024, 300008 4100022, 300009 4100022, 300009 4100020, 300010 4100020, 300010 4100019, 300011 4100019, 300011 4100018, 300012 4100018, 300012 4100017, 300013 4100017, 300013 4100016, 300014 4100016, 300014 4100015, 300015 4100015, 300015 4100014, 300016 4100014, 300016 4100013, 300017 4100013, 300017 4100012, 300018 4100012, 300018 4100011, 300019 4100011, 300019 4100010, 300020 4100010, 300020 4100009, 300021 4100009, 300021 4100008, 300022 4100008, 300022 4100007, 300023 4100007, 300023 4100006, 300024 4100006, 300024 4100005, 300025 4100005, 300025 4100004, 300026 4100004, 300026 4100003, 300027 4100003, 300027 4100002, 300028 4100002, 300028 4100001, 300029 4100001, 300029 4100000, 300030 4100000, 300030 4099999, 300031 4099999, 300031 4099998, 300032 4099998, 300032 4099997, 300033 4099997, 300033 4099996, 300034 4099996, 300034 4099995, 300035 4099995, 300035 4099994, 300036 4099994, 300036 4099993, 300037 4099993, 300037 4099992, 300038 4099992, 300038 4099991, 300039 4099991, 300039 4099990, 300040 4099990, 300040 4099989, 300042 4099989, 300042 4099990, 300043 4099990, 300044 4099990, 300044 4099991, 300046 4099991, 300047 4099991, 300047 4099992, 300048 4099992, 300049 4099992, 300049 4099993, 300051 4099993, 300052 4099993, 300052 4099994, 300053 4099994, 300054 4099994, 300054 4099995, 300056 4099995, 300057 4099995, 300057 4099996, 300058 4099996, 300059 4099996, 300059 4099997, 300061 4099997, 300062 4099997, 300062 4099998, 300063 4099998, 300064 4099998, 300064 4099999, 300066 4099999, 300067 4099999, 300067 4100000, 300068 4100000, 300069 4100000, 300069 4100001, 300071 4100001, 300072 4100001, 300072 4100002, 300073 4100002, 300074 4100002, 300074 4100003, 300076 4100003, 300077 4100003, 300077 4100004, 300078 4100004, 300079 4100004, 300079 4100005, 300081 4100005, 300082 4100005, 300082 4100006, 300083 4100006, 300084 4100006, 300084 4100007, 300086 4100007, 300087 4100007, 300087 4100008, 300088 4100008, 300089 4100008, 300089 4100009, 300090 4100009, 300091 4100009, 300091 4100010, 300089 4100010, 300089 4100011, 300086 4100011, 300086 4100012, 300083 4100012, 300083 4100013, 300080 4100013, 300080 4100014, 300077 4100014, 300077 4100015, 300074 4100015, 300074 4100016, 300071 4100016, 300071 4100017, 300068 4100017, 300068 4100018, 300065 4100018, 300065 4100019, 300062 4100019, 300062 4100020, 300059 4100020, 300059 4100021, 300056 4100021, 300056 4100022, 300053 4100022, 300053 4100023, 300050 4100023, 300050 4100024, 300047 4100024, 300047 4100025, 300044 4100025, 300044 4100026, 300041 4100026, 300041 4100027, 300038 4100027, 300038 4100028, 300035 4100028, 300035 4100029, 300032 4100029, 300032 4100030, 300029 4100030, 300029 4100031, 300026 4100031, 300026 4100032, 300023 4100032, 300023 4100033, 300020 4100033, 300020 4100034, 300017 4100034, 300017 4100035, 300014 4100035, 300014 4100036, 300011 4100036, 300011 4100037, 300008 4100037, 300008 4100038, 300005 4100038, 300005 4100039, 300002 4100039, 300002 4100040, 300000 4100040))\n"
     ]
    }
   ],
   "source": [
    "print(geo_df.iloc[0]['geometry'])"
   ]
  },
  {
   "cell_type": "code",
   "execution_count": 15,
   "metadata": {},
   "outputs": [
    {
     "ename": "TypeError",
     "evalue": "unhashable type: 'Polygon'",
     "output_type": "error",
     "traceback": [
      "\u001b[0;31m---------------------------------------------------------------------------\u001b[0m",
      "\u001b[0;31mTypeError\u001b[0m                                 Traceback (most recent call last)",
      "\u001b[0;32m<ipython-input-15-abcdcd166cc1>\u001b[0m in \u001b[0;36m<module>\u001b[0;34m\u001b[0m\n\u001b[1;32m      1\u001b[0m \u001b[0mdf\u001b[0m \u001b[0;34m=\u001b[0m \u001b[0mpd\u001b[0m\u001b[0;34m.\u001b[0m\u001b[0mDataFrame\u001b[0m\u001b[0;34m(\u001b[0m\u001b[0mdata\u001b[0m\u001b[0;34m=\u001b[0m\u001b[0md\u001b[0m\u001b[0;34m)\u001b[0m\u001b[0;34m\u001b[0m\u001b[0;34m\u001b[0m\u001b[0m\n\u001b[0;32m----> 2\u001b[0;31m \u001b[0mgeo_df\u001b[0m \u001b[0;34m=\u001b[0m \u001b[0mGeoDataFrame\u001b[0m\u001b[0;34m(\u001b[0m\u001b[0mdf\u001b[0m\u001b[0;34m,\u001b[0m\u001b[0mcrs\u001b[0m\u001b[0;34m=\u001b[0m\u001b[0;34m{\u001b[0m\u001b[0;34m'init'\u001b[0m\u001b[0;34m:\u001b[0m \u001b[0;34m'EPSG:32638'\u001b[0m\u001b[0;34m}\u001b[0m\u001b[0;34m,\u001b[0m \u001b[0mgeometry\u001b[0m \u001b[0;34m=\u001b[0m \u001b[0mshape\u001b[0m\u001b[0;34m(\u001b[0m\u001b[0mtest_shapes\u001b[0m\u001b[0;34m)\u001b[0m\u001b[0;34m)\u001b[0m\u001b[0;34m\u001b[0m\u001b[0;34m\u001b[0m\u001b[0m\n\u001b[0m\u001b[1;32m      3\u001b[0m \u001b[0mgeo_df\u001b[0m\u001b[0;34m[\u001b[0m\u001b[0;34m'area'\u001b[0m\u001b[0;34m]\u001b[0m \u001b[0;34m=\u001b[0m  \u001b[0mgeo_df\u001b[0m\u001b[0;34m.\u001b[0m\u001b[0marea\u001b[0m\u001b[0;34m\u001b[0m\u001b[0;34m\u001b[0m\u001b[0m\n\u001b[1;32m      4\u001b[0m \u001b[0mgeo_df\u001b[0m\u001b[0;34m.\u001b[0m\u001b[0mto_file\u001b[0m\u001b[0;34m(\u001b[0m\u001b[0;34m'JustSomeRectanglesInTheNWT2.shp'\u001b[0m\u001b[0;34m,\u001b[0m \u001b[0mdriver\u001b[0m \u001b[0;34m=\u001b[0m \u001b[0;34m'ESRI Shapefile'\u001b[0m\u001b[0;34m)\u001b[0m\u001b[0;34m\u001b[0m\u001b[0;34m\u001b[0m\u001b[0m\n",
      "\u001b[0;32m~/opt/anaconda3/envs/conda_unosatenv/lib/python3.7/site-packages/geopandas/geodataframe.py\u001b[0m in \u001b[0;36m__init__\u001b[0;34m(self, *args, **kwargs)\u001b[0m\n\u001b[1;32m     81\u001b[0m \u001b[0;34m\u001b[0m\u001b[0m\n\u001b[1;32m     82\u001b[0m         \u001b[0;32mif\u001b[0m \u001b[0mgeometry\u001b[0m \u001b[0;32mis\u001b[0m \u001b[0;32mnot\u001b[0m \u001b[0;32mNone\u001b[0m\u001b[0;34m:\u001b[0m\u001b[0;34m\u001b[0m\u001b[0;34m\u001b[0m\u001b[0m\n\u001b[0;32m---> 83\u001b[0;31m             \u001b[0mself\u001b[0m\u001b[0;34m.\u001b[0m\u001b[0mset_geometry\u001b[0m\u001b[0;34m(\u001b[0m\u001b[0mgeometry\u001b[0m\u001b[0;34m,\u001b[0m \u001b[0minplace\u001b[0m\u001b[0;34m=\u001b[0m\u001b[0;32mTrue\u001b[0m\u001b[0;34m)\u001b[0m\u001b[0;34m\u001b[0m\u001b[0;34m\u001b[0m\u001b[0m\n\u001b[0m\u001b[1;32m     84\u001b[0m         \u001b[0mself\u001b[0m\u001b[0;34m.\u001b[0m\u001b[0m_invalidate_sindex\u001b[0m\u001b[0;34m(\u001b[0m\u001b[0;34m)\u001b[0m\u001b[0;34m\u001b[0m\u001b[0;34m\u001b[0m\u001b[0m\n\u001b[1;32m     85\u001b[0m \u001b[0;34m\u001b[0m\u001b[0m\n",
      "\u001b[0;32m~/opt/anaconda3/envs/conda_unosatenv/lib/python3.7/site-packages/geopandas/geodataframe.py\u001b[0m in \u001b[0;36mset_geometry\u001b[0;34m(self, col, drop, inplace, crs)\u001b[0m\n\u001b[1;32m    153\u001b[0m         \u001b[0;32melse\u001b[0m\u001b[0;34m:\u001b[0m\u001b[0;34m\u001b[0m\u001b[0;34m\u001b[0m\u001b[0m\n\u001b[1;32m    154\u001b[0m             \u001b[0;32mtry\u001b[0m\u001b[0;34m:\u001b[0m\u001b[0;34m\u001b[0m\u001b[0;34m\u001b[0m\u001b[0m\n\u001b[0;32m--> 155\u001b[0;31m                 \u001b[0mlevel\u001b[0m \u001b[0;34m=\u001b[0m \u001b[0mframe\u001b[0m\u001b[0;34m[\u001b[0m\u001b[0mcol\u001b[0m\u001b[0;34m]\u001b[0m\u001b[0;34m.\u001b[0m\u001b[0mvalues\u001b[0m\u001b[0;34m\u001b[0m\u001b[0;34m\u001b[0m\u001b[0m\n\u001b[0m\u001b[1;32m    156\u001b[0m             \u001b[0;32mexcept\u001b[0m \u001b[0mKeyError\u001b[0m\u001b[0;34m:\u001b[0m\u001b[0;34m\u001b[0m\u001b[0;34m\u001b[0m\u001b[0m\n\u001b[1;32m    157\u001b[0m                 \u001b[0;32mraise\u001b[0m \u001b[0mValueError\u001b[0m\u001b[0;34m(\u001b[0m\u001b[0;34m\"Unknown column %s\"\u001b[0m \u001b[0;34m%\u001b[0m \u001b[0mcol\u001b[0m\u001b[0;34m)\u001b[0m\u001b[0;34m\u001b[0m\u001b[0;34m\u001b[0m\u001b[0m\n",
      "\u001b[0;32m~/opt/anaconda3/envs/conda_unosatenv/lib/python3.7/site-packages/geopandas/geodataframe.py\u001b[0m in \u001b[0;36m__getitem__\u001b[0;34m(self, key)\u001b[0m\n\u001b[1;32m    544\u001b[0m         \u001b[0mGeoDataFrame\u001b[0m\u001b[0;34m.\u001b[0m\u001b[0;34m\u001b[0m\u001b[0;34m\u001b[0m\u001b[0m\n\u001b[1;32m    545\u001b[0m         \"\"\"\n\u001b[0;32m--> 546\u001b[0;31m         \u001b[0mresult\u001b[0m \u001b[0;34m=\u001b[0m \u001b[0msuper\u001b[0m\u001b[0;34m(\u001b[0m\u001b[0mGeoDataFrame\u001b[0m\u001b[0;34m,\u001b[0m \u001b[0mself\u001b[0m\u001b[0;34m)\u001b[0m\u001b[0;34m.\u001b[0m\u001b[0m__getitem__\u001b[0m\u001b[0;34m(\u001b[0m\u001b[0mkey\u001b[0m\u001b[0;34m)\u001b[0m\u001b[0;34m\u001b[0m\u001b[0;34m\u001b[0m\u001b[0m\n\u001b[0m\u001b[1;32m    547\u001b[0m         \u001b[0mgeo_col\u001b[0m \u001b[0;34m=\u001b[0m \u001b[0mself\u001b[0m\u001b[0;34m.\u001b[0m\u001b[0m_geometry_column_name\u001b[0m\u001b[0;34m\u001b[0m\u001b[0;34m\u001b[0m\u001b[0m\n\u001b[1;32m    548\u001b[0m         \u001b[0;32mif\u001b[0m \u001b[0misinstance\u001b[0m\u001b[0;34m(\u001b[0m\u001b[0mkey\u001b[0m\u001b[0;34m,\u001b[0m \u001b[0mstring_types\u001b[0m\u001b[0;34m)\u001b[0m \u001b[0;32mand\u001b[0m \u001b[0mkey\u001b[0m \u001b[0;34m==\u001b[0m \u001b[0mgeo_col\u001b[0m\u001b[0;34m:\u001b[0m\u001b[0;34m\u001b[0m\u001b[0;34m\u001b[0m\u001b[0m\n",
      "\u001b[0;32m~/.local/lib/python3.7/site-packages/pandas/core/frame.py\u001b[0m in \u001b[0;36m__getitem__\u001b[0;34m(self, key)\u001b[0m\n\u001b[1;32m   2932\u001b[0m                 \u001b[0mkey\u001b[0m \u001b[0;34m=\u001b[0m \u001b[0mlist\u001b[0m\u001b[0;34m(\u001b[0m\u001b[0mkey\u001b[0m\u001b[0;34m)\u001b[0m\u001b[0;34m\u001b[0m\u001b[0;34m\u001b[0m\u001b[0m\n\u001b[1;32m   2933\u001b[0m             indexer = self.loc._convert_to_indexer(key, axis=1,\n\u001b[0;32m-> 2934\u001b[0;31m                                                    raise_missing=True)\n\u001b[0m\u001b[1;32m   2935\u001b[0m \u001b[0;34m\u001b[0m\u001b[0m\n\u001b[1;32m   2936\u001b[0m         \u001b[0;31m# take() does not accept boolean indexers\u001b[0m\u001b[0;34m\u001b[0m\u001b[0;34m\u001b[0m\u001b[0;34m\u001b[0m\u001b[0m\n",
      "\u001b[0;32m~/.local/lib/python3.7/site-packages/pandas/core/indexing.py\u001b[0m in \u001b[0;36m_convert_to_indexer\u001b[0;34m(self, obj, axis, is_setter, raise_missing)\u001b[0m\n\u001b[1;32m   1352\u001b[0m                 kwargs = {'raise_missing': True if is_setter else\n\u001b[1;32m   1353\u001b[0m                           raise_missing}\n\u001b[0;32m-> 1354\u001b[0;31m                 \u001b[0;32mreturn\u001b[0m \u001b[0mself\u001b[0m\u001b[0;34m.\u001b[0m\u001b[0m_get_listlike_indexer\u001b[0m\u001b[0;34m(\u001b[0m\u001b[0mobj\u001b[0m\u001b[0;34m,\u001b[0m \u001b[0maxis\u001b[0m\u001b[0;34m,\u001b[0m \u001b[0;34m**\u001b[0m\u001b[0mkwargs\u001b[0m\u001b[0;34m)\u001b[0m\u001b[0;34m[\u001b[0m\u001b[0;36m1\u001b[0m\u001b[0;34m]\u001b[0m\u001b[0;34m\u001b[0m\u001b[0;34m\u001b[0m\u001b[0m\n\u001b[0m\u001b[1;32m   1355\u001b[0m         \u001b[0;32melse\u001b[0m\u001b[0;34m:\u001b[0m\u001b[0;34m\u001b[0m\u001b[0;34m\u001b[0m\u001b[0m\n\u001b[1;32m   1356\u001b[0m             \u001b[0;32mtry\u001b[0m\u001b[0;34m:\u001b[0m\u001b[0;34m\u001b[0m\u001b[0;34m\u001b[0m\u001b[0m\n",
      "\u001b[0;32m~/.local/lib/python3.7/site-packages/pandas/core/indexing.py\u001b[0m in \u001b[0;36m_get_listlike_indexer\u001b[0;34m(self, key, axis, raise_missing)\u001b[0m\n\u001b[1;32m   1152\u001b[0m             \u001b[0;32mif\u001b[0m \u001b[0mlen\u001b[0m\u001b[0;34m(\u001b[0m\u001b[0max\u001b[0m\u001b[0;34m)\u001b[0m \u001b[0;32mor\u001b[0m \u001b[0;32mnot\u001b[0m \u001b[0mlen\u001b[0m\u001b[0;34m(\u001b[0m\u001b[0mkey\u001b[0m\u001b[0;34m)\u001b[0m\u001b[0;34m:\u001b[0m\u001b[0;34m\u001b[0m\u001b[0;34m\u001b[0m\u001b[0m\n\u001b[1;32m   1153\u001b[0m                 \u001b[0mkey\u001b[0m \u001b[0;34m=\u001b[0m \u001b[0mself\u001b[0m\u001b[0;34m.\u001b[0m\u001b[0m_convert_for_reindex\u001b[0m\u001b[0;34m(\u001b[0m\u001b[0mkey\u001b[0m\u001b[0;34m,\u001b[0m \u001b[0maxis\u001b[0m\u001b[0;34m)\u001b[0m\u001b[0;34m\u001b[0m\u001b[0;34m\u001b[0m\u001b[0m\n\u001b[0;32m-> 1154\u001b[0;31m             \u001b[0mindexer\u001b[0m \u001b[0;34m=\u001b[0m \u001b[0max\u001b[0m\u001b[0;34m.\u001b[0m\u001b[0mget_indexer_for\u001b[0m\u001b[0;34m(\u001b[0m\u001b[0mkey\u001b[0m\u001b[0;34m)\u001b[0m\u001b[0;34m\u001b[0m\u001b[0;34m\u001b[0m\u001b[0m\n\u001b[0m\u001b[1;32m   1155\u001b[0m             \u001b[0mkeyarr\u001b[0m \u001b[0;34m=\u001b[0m \u001b[0max\u001b[0m\u001b[0;34m.\u001b[0m\u001b[0mreindex\u001b[0m\u001b[0;34m(\u001b[0m\u001b[0mkeyarr\u001b[0m\u001b[0;34m)\u001b[0m\u001b[0;34m[\u001b[0m\u001b[0;36m0\u001b[0m\u001b[0;34m]\u001b[0m\u001b[0;34m\u001b[0m\u001b[0;34m\u001b[0m\u001b[0m\n\u001b[1;32m   1156\u001b[0m         \u001b[0;32melse\u001b[0m\u001b[0;34m:\u001b[0m\u001b[0;34m\u001b[0m\u001b[0;34m\u001b[0m\u001b[0m\n",
      "\u001b[0;32m~/.local/lib/python3.7/site-packages/pandas/core/indexes/base.py\u001b[0m in \u001b[0;36mget_indexer_for\u001b[0;34m(self, target, **kwargs)\u001b[0m\n\u001b[1;32m   4453\u001b[0m         \"\"\"\n\u001b[1;32m   4454\u001b[0m         \u001b[0;32mif\u001b[0m \u001b[0mself\u001b[0m\u001b[0;34m.\u001b[0m\u001b[0mis_unique\u001b[0m\u001b[0;34m:\u001b[0m\u001b[0;34m\u001b[0m\u001b[0;34m\u001b[0m\u001b[0m\n\u001b[0;32m-> 4455\u001b[0;31m             \u001b[0;32mreturn\u001b[0m \u001b[0mself\u001b[0m\u001b[0;34m.\u001b[0m\u001b[0mget_indexer\u001b[0m\u001b[0;34m(\u001b[0m\u001b[0mtarget\u001b[0m\u001b[0;34m,\u001b[0m \u001b[0;34m**\u001b[0m\u001b[0mkwargs\u001b[0m\u001b[0;34m)\u001b[0m\u001b[0;34m\u001b[0m\u001b[0;34m\u001b[0m\u001b[0m\n\u001b[0m\u001b[1;32m   4456\u001b[0m         \u001b[0mindexer\u001b[0m\u001b[0;34m,\u001b[0m \u001b[0m_\u001b[0m \u001b[0;34m=\u001b[0m \u001b[0mself\u001b[0m\u001b[0;34m.\u001b[0m\u001b[0mget_indexer_non_unique\u001b[0m\u001b[0;34m(\u001b[0m\u001b[0mtarget\u001b[0m\u001b[0;34m,\u001b[0m \u001b[0;34m**\u001b[0m\u001b[0mkwargs\u001b[0m\u001b[0;34m)\u001b[0m\u001b[0;34m\u001b[0m\u001b[0;34m\u001b[0m\u001b[0m\n\u001b[1;32m   4457\u001b[0m         \u001b[0;32mreturn\u001b[0m \u001b[0mindexer\u001b[0m\u001b[0;34m\u001b[0m\u001b[0;34m\u001b[0m\u001b[0m\n",
      "\u001b[0;32m~/.local/lib/python3.7/site-packages/pandas/core/indexes/base.py\u001b[0m in \u001b[0;36mget_indexer\u001b[0;34m(self, target, method, limit, tolerance)\u001b[0m\n\u001b[1;32m   2753\u001b[0m                                  'backfill or nearest reindexing')\n\u001b[1;32m   2754\u001b[0m \u001b[0;34m\u001b[0m\u001b[0m\n\u001b[0;32m-> 2755\u001b[0;31m             \u001b[0mindexer\u001b[0m \u001b[0;34m=\u001b[0m \u001b[0mself\u001b[0m\u001b[0;34m.\u001b[0m\u001b[0m_engine\u001b[0m\u001b[0;34m.\u001b[0m\u001b[0mget_indexer\u001b[0m\u001b[0;34m(\u001b[0m\u001b[0mtarget\u001b[0m\u001b[0;34m.\u001b[0m\u001b[0m_ndarray_values\u001b[0m\u001b[0;34m)\u001b[0m\u001b[0;34m\u001b[0m\u001b[0;34m\u001b[0m\u001b[0m\n\u001b[0m\u001b[1;32m   2756\u001b[0m \u001b[0;34m\u001b[0m\u001b[0m\n\u001b[1;32m   2757\u001b[0m         \u001b[0;32mreturn\u001b[0m \u001b[0mensure_platform_int\u001b[0m\u001b[0;34m(\u001b[0m\u001b[0mindexer\u001b[0m\u001b[0;34m)\u001b[0m\u001b[0;34m\u001b[0m\u001b[0;34m\u001b[0m\u001b[0m\n",
      "\u001b[0;32mpandas/_libs/index.pyx\u001b[0m in \u001b[0;36mpandas._libs.index.IndexEngine.get_indexer\u001b[0;34m()\u001b[0m\n",
      "\u001b[0;32mpandas/_libs/hashtable_class_helper.pxi\u001b[0m in \u001b[0;36mpandas._libs.hashtable.PyObjectHashTable.lookup\u001b[0;34m()\u001b[0m\n",
      "\u001b[0;31mTypeError\u001b[0m: unhashable type: 'Polygon'"
     ]
    }
   ],
   "source": [
    "df = pd.DataFrame(data=d)\n",
    "geo_df = GeoDataFrame(df,crs={'init': 'EPSG:32638'}, geometry = shape(test_shapes))\n",
    "geo_df['area'] =  geo_df.area \n",
    "geo_df.to_file('JustSomeRectanglesInTheNWT2.shp', driver = 'ESRI Shapefile')"
   ]
  },
  {
   "cell_type": "code",
   "execution_count": null,
   "metadata": {},
   "outputs": [],
   "source": []
  }
 ],
 "metadata": {
  "kernelspec": {
   "display_name": "Python [conda env:conda_unosatenv]",
   "language": "python",
   "name": "conda-env-conda_unosatenv-py"
  },
  "language_info": {
   "codemirror_mode": {
    "name": "ipython",
    "version": 3
   },
   "file_extension": ".py",
   "mimetype": "text/x-python",
   "name": "python",
   "nbconvert_exporter": "python",
   "pygments_lexer": "ipython3",
   "version": "3.7.5"
  }
 },
 "nbformat": 4,
 "nbformat_minor": 2
}
