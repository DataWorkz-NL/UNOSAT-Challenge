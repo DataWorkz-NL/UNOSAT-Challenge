{
 "cells": [
  {
   "cell_type": "code",
   "execution_count": null,
   "metadata": {},
   "outputs": [],
   "source": [
    "import geopandas as gpd\n",
    "import pandas as pd\n",
    "import os\n",
    "import numpy as np\n",
    "import matplotlib.pyplot as plt\n",
    "import rasterio as rio\n",
    "from rasterio.plot import show\n",
    "from rasterio.plot import show_hist\n",
    "from rasterio.plot import plotting_extent\n",
    "from shapely.geometry import Polygon, mapping\n",
    "from rasterio.mask import mask\n",
    "from PIL import Image, ImageDraw\n",
    "from os.path import join\n",
    "import descartes\n",
    "\n",
    "import earthpy.spatial as es\n",
    "import earthpy.plot as ep\n",
    "import earthpy.clip as ec\n",
    "import earthpy.mask as em\n",
    "\n",
    "import fiona \n",
    "import pyproj\n",
    "import time"
   ]
  },
  {
   "cell_type": "code",
   "execution_count": null,
   "metadata": {},
   "outputs": [],
   "source": [
    "from platform import python_version\n",
    "print(python_version())"
   ]
  },
  {
   "cell_type": "code",
   "execution_count": null,
   "metadata": {},
   "outputs": [],
   "source": [
    "# local paths\n",
    "path_data = '/Volumes/other/datasets_and_ML/UNOSAT_Challenge/Train_Dataset'\n",
    "area = 'Mosul_2015'\n",
    "path_file = 's1tiling_S1A_IW_GRDH_1SDV_20150108T030926_20150108T030951_004074_004EC3_B908/38SLF/s1a_38SLF_vv_DES_20150108t030926.tif'\n",
    "path_file_border_mask = 's1tiling_S1A_IW_GRDH_1SDV_20151222T030932_20151222T030957_009149_00D2A0_F04A/38SLF/s1a_38SLF_vv_DES_20151222t030932_BorderMask.tif'\n",
    "\n",
    "shape_file = '38SLF_Mosul.shp'\n",
    "file_label = shape_file[-0:-4] + path_file[-19:-4]\n",
    "\n",
    "path_raster = join(path_data, area, path_file)\n",
    "path_border_mask = join(path_data, area, path_file_border_mask)\n",
    "path_shape_file = join(path_data, area, shape_file)\n",
    "output = join('/Volumes/other/datasets_and_ML/UNOSAT_Challenge/output_test', 'mosul_test.tif')"
   ]
  },
  {
   "cell_type": "code",
   "execution_count": null,
   "metadata": {},
   "outputs": [],
   "source": [
    "file_label"
   ]
  },
  {
   "cell_type": "markdown",
   "metadata": {},
   "source": [
    "### shape file"
   ]
  },
  {
   "cell_type": "markdown",
   "metadata": {},
   "source": [
    "https://www.earthdatascience.org/workshops/gis-open-source-python/intro-vector-data-python/"
   ]
  },
  {
   "cell_type": "code",
   "execution_count": null,
   "metadata": {},
   "outputs": [],
   "source": [
    "polygons = gpd.read_file(path_shape_file)"
   ]
  },
  {
   "cell_type": "code",
   "execution_count": null,
   "metadata": {},
   "outputs": [],
   "source": [
    "polygons.head(), polygons.total_bounds, polygons.shape"
   ]
  },
  {
   "cell_type": "code",
   "execution_count": null,
   "metadata": {},
   "outputs": [],
   "source": [
    "polygons.plot()"
   ]
  },
  {
   "cell_type": "code",
   "execution_count": null,
   "metadata": {},
   "outputs": [],
   "source": [
    "# get coordinatesin python list\n",
    "g = [i for i in polygons.geometry]\n",
    "all_coords = [mapping(g_i)[\"coordinates\"] for g_i in g]"
   ]
  },
  {
   "cell_type": "code",
   "execution_count": null,
   "metadata": {},
   "outputs": [],
   "source": [
    "all_coords[:2]"
   ]
  },
  {
   "cell_type": "code",
   "execution_count": null,
   "metadata": {},
   "outputs": [],
   "source": [
    "len(all_coords)"
   ]
  },
  {
   "cell_type": "code",
   "execution_count": null,
   "metadata": {},
   "outputs": [],
   "source": [
    "polygons.__dict__"
   ]
  },
  {
   "cell_type": "markdown",
   "metadata": {
    "heading_collapsed": true
   },
   "source": [
    "### raster file"
   ]
  },
  {
   "cell_type": "code",
   "execution_count": null,
   "metadata": {
    "hidden": true
   },
   "outputs": [],
   "source": [
    "# open raster data\n",
    "raster_obj= rio.open(path_raster)\n",
    "# optional - view spatial extent\n",
    "raster_obj.bounds"
   ]
  },
  {
   "cell_type": "code",
   "execution_count": null,
   "metadata": {
    "hidden": true
   },
   "outputs": [],
   "source": [
    "raster_obj.meta"
   ]
  },
  {
   "cell_type": "code",
   "execution_count": null,
   "metadata": {
    "hidden": true
   },
   "outputs": [],
   "source": [
    "# read in all of the data without specifying a band\n",
    "with rio.open(path_raster) as src:\n",
    "    # convert / read the data into a numpy array:\n",
    "    mosul_dem_im = src.read(masked= False)\n",
    "    sjer_ext = rio.plot.plotting_extent(src)\n",
    "\n",
    "# view array shape -- notice that you have 3 dimensions below\n",
    "print(mosul_dem_im.shape)"
   ]
  },
  {
   "cell_type": "code",
   "execution_count": null,
   "metadata": {
    "hidden": true
   },
   "outputs": [],
   "source": [
    "mosul_first = mosul_dem_im[0]\n",
    "mosul_first"
   ]
  },
  {
   "cell_type": "code",
   "execution_count": null,
   "metadata": {
    "hidden": true
   },
   "outputs": [],
   "source": [
    "mosul_slice = mosul_first[100:300,100:300]"
   ]
  },
  {
   "cell_type": "code",
   "execution_count": null,
   "metadata": {
    "hidden": true
   },
   "outputs": [],
   "source": [
    "#try Matplotlib\n",
    "n1 = 7000\n",
    "n2 = 8800\n",
    "fig, ax = plt.subplots()\n",
    "ax.imshow(mosul_first[n1:n2,n1:n2],  interpolation='nearest')\n",
    "\n",
    "plt.show()"
   ]
  },
  {
   "cell_type": "code",
   "execution_count": null,
   "metadata": {
    "hidden": true
   },
   "outputs": [],
   "source": [
    "#try PIL \n",
    "# img = Image.fromarray(1 - mosul_first[n1:n2,n1:n2])\n",
    "# img.show()\n",
    "\n",
    "# doesnt show more"
   ]
  },
  {
   "cell_type": "markdown",
   "metadata": {},
   "source": [
    "## process raster: clipping, transform, normalization"
   ]
  },
  {
   "cell_type": "code",
   "execution_count": null,
   "metadata": {},
   "outputs": [],
   "source": [
    "np_arr_read = raster_obj.read()"
   ]
  },
  {
   "cell_type": "code",
   "execution_count": null,
   "metadata": {},
   "outputs": [],
   "source": [
    "np_arr = np_arr_read[0]"
   ]
  },
  {
   "cell_type": "code",
   "execution_count": null,
   "metadata": {},
   "outputs": [],
   "source": [
    "sum(sum(np_arr))"
   ]
  },
  {
   "cell_type": "code",
   "execution_count": null,
   "metadata": {},
   "outputs": [],
   "source": [
    "np_arr.max(), np_arr.min(), np.median(np_arr), np.std(np_arr)"
   ]
  },
  {
   "cell_type": "code",
   "execution_count": null,
   "metadata": {},
   "outputs": [],
   "source": [
    "# need to clip and stretch contrast of  figure\n",
    "clip_min=0\n",
    "clip_max=2\n",
    "\n",
    "arr_clip = np.clip(np_arr, clip_min, clip_max)"
   ]
  },
  {
   "cell_type": "code",
   "execution_count": null,
   "metadata": {},
   "outputs": [],
   "source": [
    "rio.plot.show_hist(arr_clip, bins=100)"
   ]
  },
  {
   "cell_type": "code",
   "execution_count": null,
   "metadata": {},
   "outputs": [],
   "source": [
    "def exponent(x, a, b):\n",
    "    return a*x**b"
   ]
  },
  {
   "cell_type": "code",
   "execution_count": null,
   "metadata": {},
   "outputs": [],
   "source": [
    "def log(x, a, b):\n",
    "    return np.log(a*x + b)"
   ]
  },
  {
   "cell_type": "code",
   "execution_count": null,
   "metadata": {},
   "outputs": [],
   "source": [
    "# Normalize bands into 0.0 - 1.0 scale\n",
    "def normalize(array):\n",
    "    array_min, array_max = array.min(), array.max()\n",
    "    return (array - array_min) / (array_max - array_min)"
   ]
  },
  {
   "cell_type": "code",
   "execution_count": null,
   "metadata": {},
   "outputs": [],
   "source": [
    "a = 1\n",
    "b = 0.5\n",
    "\n",
    "a_l = 1\n",
    "b_l = 0.1\n",
    "\n",
    "array_exp = exponent(arr_clip, a, b)\n",
    "array_log = log(arr_clip, a_l, b_l)\n",
    "np_arr_norm = normalize(arr_clip)\n",
    "np_arr_exp_norm = normalize(array_exp)\n",
    "np_arr_log_norm = normalize(array_log)"
   ]
  },
  {
   "cell_type": "code",
   "execution_count": null,
   "metadata": {},
   "outputs": [],
   "source": [
    "fig, (ax1, ax2, ax3) = plt.subplots(1,3, figsize=(20,5))\n",
    "ax1.hist(np_arr_norm.flatten(), bins=100);\n",
    "ax2.hist(np_arr_exp_norm.flatten(), bins=100);\n",
    "ax3.hist(np_arr_log_norm.flatten(), bins=100);"
   ]
  },
  {
   "cell_type": "code",
   "execution_count": null,
   "metadata": {},
   "outputs": [],
   "source": [
    "fig, ax = plt.subplots(figsize=(15, 15))\n",
    "ax.imshow(np_arr_norm, cmap='pink')\n",
    "plt.show()"
   ]
  },
  {
   "cell_type": "code",
   "execution_count": null,
   "metadata": {},
   "outputs": [],
   "source": [
    "fig, ax = plt.subplots(figsize=(15, 15))\n",
    "ax.imshow(np_arr_exp_norm, cmap='pink')\n",
    "plt.show()"
   ]
  },
  {
   "cell_type": "code",
   "execution_count": null,
   "metadata": {},
   "outputs": [],
   "source": [
    "fig, ax = plt.subplots(figsize=(15, 15))\n",
    "ax.imshow(np_arr_log_norm, cmap='pink')\n",
    "plt.show()"
   ]
  },
  {
   "cell_type": "markdown",
   "metadata": {
    "heading_collapsed": true
   },
   "source": [
    "## arrays2raster "
   ]
  },
  {
   "cell_type": "markdown",
   "metadata": {
    "hidden": true
   },
   "source": [
    "### further explorations with raster"
   ]
  },
  {
   "cell_type": "code",
   "execution_count": null,
   "metadata": {
    "hidden": true
   },
   "outputs": [],
   "source": [
    "np.save('np_array', np_arr_norm)"
   ]
  },
  {
   "cell_type": "code",
   "execution_count": null,
   "metadata": {
    "hidden": true
   },
   "outputs": [],
   "source": [
    "# save as raster\n",
    "#rasterize_shp(template_raster, shp, dtype, options,output,nodata_val=0)\n"
   ]
  },
  {
   "cell_type": "code",
   "execution_count": null,
   "metadata": {
    "hidden": true
   },
   "outputs": [],
   "source": [
    "# from https://pcjericks.github.io/py-gdalogr-cookbook/raster_layers.html\n",
    "def array2raster(newRasterfn,rasterOrigin,pixelWidth,pixelHeight,array):\n",
    "    cols = array.shape[1]\n",
    "    rows = array.shape[0]\n",
    "    originX = rasterOrigin[0]\n",
    "    originY = rasterOrigin[1]\n",
    "\n",
    "    driver = gdal.GetDriverByName('GTiff')\n",
    "    outRaster = driver.Create(newRasterfn, cols, rows, 1, gdal.GDT_Byte)\n",
    "    outRaster.SetGeoTransform((originX, pixelWidth, 0, originY, 0, pixelHeight))\n",
    "    outband = outRaster.GetRasterBand(1)\n",
    "    outband.WriteArray(array)\n",
    "    outRasterSRS = osr.SpatialReference()\n",
    "    outRasterSRS.ImportFromEPSG(32638)\n",
    "    outRaster.SetProjection(outRasterSRS.ExportToWkt())\n",
    "    outband.FlushCache()\n",
    "\n",
    "def main_arr2raster(newRasterfn,rasterOrigin,pixelWidth,pixelHeight,array):\n",
    "    reversed_arr = array[::-1] # reverse array so the tif looks like the array\n",
    "    array2raster(newRasterfn,rasterOrigin,pixelWidth,pixelHeight,reversed_arr) # convert array to raster\n"
   ]
  },
  {
   "cell_type": "code",
   "execution_count": null,
   "metadata": {
    "hidden": true
   },
   "outputs": [],
   "source": [
    "# from https://geohackweek.github.io/raster/04-workingwithrasters/\n",
    "\n",
    "\n",
    "with rio.open(path_raster) as src:\n",
    "    # Use pyproj to convert point coordinates\n",
    "    utm = pyproj.Proj(src.crs) # Pass CRS of image from rasterio\n",
    "    lonlat = pyproj.Proj(init='epsg:32638')\n",
    "\n",
    "    lon,lat = (35, 36)\n",
    "    east,north = pyproj.transform(lonlat, utm, lon, lat)\n",
    "\n",
    "    print('Mosul-------')\n",
    "    print(f'lon,lat=\\t\\t({lon:.2f},{lat:.2f})')\n",
    "    print(f'easting,northing=\\t({east:g},{north:g})')\n",
    "\n",
    "    # What is the corresponding row and column in our image?\n",
    "    row, col = src.index(east, north) # spatial --> image coordinates\n",
    "    print(f'row,col=\\t\\t({row},{col})')\n",
    "\n",
    "\n",
    "    # Or if you see an interesting feature and want to know the spatial coordinates:\n",
    "    row, col = 0, 0\n",
    "    east, north = src.xy(row,col) # image --> spatial coordinates\n",
    "    lon,lat = pyproj.transform(utm, lonlat, east, north)\n",
    "    print('lon,lat of row, col: ({}, {}) = {}, {}'.format(row, col, lon, lat) )\n",
    "\n",
    "        "
   ]
  },
  {
   "cell_type": "code",
   "execution_count": null,
   "metadata": {
    "hidden": true
   },
   "outputs": [],
   "source": [
    "rasterOrigin = (30.00050, 410.00350)\n",
    "pixelWidth = np_arr_norm.shape[0]\n",
    "pixelHeight = np_arr_norm.shape[1]\n",
    "newRasterfn = 'raster_test.tif'\n",
    "main_arr2raster(newRasterfn, rasterOrigin, pixelWidth, pixelHeight, np_arr_norm)"
   ]
  },
  {
   "cell_type": "code",
   "execution_count": null,
   "metadata": {
    "hidden": true
   },
   "outputs": [],
   "source": []
  },
  {
   "cell_type": "markdown",
   "metadata": {
    "heading_collapsed": true
   },
   "source": [
    "## visualize with earthpy"
   ]
  },
  {
   "cell_type": "markdown",
   "metadata": {
    "hidden": true
   },
   "source": [
    "see: https://earthpy.readthedocs.io/en/latest/gallery_vignettes/plot_rgb.html"
   ]
  },
  {
   "cell_type": "markdown",
   "metadata": {
    "hidden": true
   },
   "source": [
    "###  4 images:"
   ]
  },
  {
   "cell_type": "code",
   "execution_count": null,
   "metadata": {
    "hidden": true
   },
   "outputs": [],
   "source": [
    "im1 = join(path_data, area,'s1tiling_S1A_IW_GRDH_1SDV_20150108T030926_20150108T030951_004074_004EC3_B908/38SLF/s1a_38SLF_vh_DES_20150108t030926.tif')\n",
    "im2 = join(path_data, area,'s1tiling_S1A_IW_GRDH_1SDV_20150426T030931_20150426T030956_005649_0073E6_2DFA/38SLF/s1a_38SLF_vh_20150426.tif')\n",
    "im3 = join(path_data, area,'s1tiling_S1A_IW_GRDH_1SDV_20150812T030933_20150812T030958_007224_009E1D_B70E/38SLF/s1a_38SLF_vh_DES_20150812t030933.tif')\n",
    "im4 = join(path_data, area,'s1tiling_S1A_IW_GRDH_1SDV_20151222T030932_20151222T030957_009149_00D2A0_F04A/38SLF/s1a_38SLF_vh_DES_20151222t030932.tif')\n"
   ]
  },
  {
   "cell_type": "code",
   "execution_count": null,
   "metadata": {
    "hidden": true
   },
   "outputs": [],
   "source": [
    "# Get list of bands and sort by ascending band number\n",
    "bands = [im1, im2, im3, im4]\n",
    "\n",
    "# Create image stack and apply nodata value for Landsat\n",
    "arr_st, meta = es.stack(bands, nodata=-9999)"
   ]
  },
  {
   "cell_type": "code",
   "execution_count": null,
   "metadata": {
    "hidden": true
   },
   "outputs": [],
   "source": [
    "meta"
   ]
  },
  {
   "cell_type": "code",
   "execution_count": null,
   "metadata": {
    "hidden": true
   },
   "outputs": [],
   "source": [
    "# Create figure with one plot\n",
    "fig, ax = plt.subplots(figsize=(12, 12))\n",
    "\n",
    "# Plot bands with stretched applied\n",
    "ep.plot_rgb(\n",
    "    arr_st,\n",
    "    rgb=(3, 2, 1, 0),\n",
    "    ax=ax,\n",
    "    stretch=True,\n",
    "    str_clip=0.5,\n",
    "    title=\"Landsat 8 RGB Image with Stretch Applied\",\n",
    ")\n",
    "plt.show()"
   ]
  },
  {
   "cell_type": "code",
   "execution_count": null,
   "metadata": {
    "hidden": true
   },
   "outputs": [],
   "source": [
    "# Create figure with one plot\n",
    "fig, ax = plt.subplots(figsize=(12, 12))\n",
    "\n",
    "# Plot NIR, red, and green bands, respectively, with stretch\n",
    "ep.plot_rgb(\n",
    "    arr_st,\n",
    "    rgb=(3, 2, 1, 0),\n",
    "    ax=ax,\n",
    "    stretch=True,\n",
    "    str_clip=0.5,\n",
    "    title=\"Landsat 8 CIR Image with Stretch Applied\",\n",
    ")\n",
    "plt.show()"
   ]
  },
  {
   "cell_type": "markdown",
   "metadata": {
    "hidden": true
   },
   "source": [
    "### together with shape "
   ]
  },
  {
   "cell_type": "code",
   "execution_count": null,
   "metadata": {
    "hidden": true
   },
   "outputs": [],
   "source": [
    "n_img = 3 # which raster image"
   ]
  },
  {
   "cell_type": "code",
   "execution_count": null,
   "metadata": {
    "hidden": true
   },
   "outputs": [],
   "source": [
    "# Reproject boundary to match CRS of the Landsat images\n",
    "with rio.open(bands[n_img]) as raster_crs:\n",
    "    raster_profile = raster_crs.profile\n",
    "    bound_utm13N = polygons.to_crs(raster_profile[\"crs\"])"
   ]
  },
  {
   "cell_type": "code",
   "execution_count": null,
   "metadata": {
    "hidden": true
   },
   "outputs": [],
   "source": [
    "rio.open(bands[n_img]).crs"
   ]
  },
  {
   "cell_type": "code",
   "execution_count": null,
   "metadata": {
    "hidden": true
   },
   "outputs": [],
   "source": [
    "raster_profile"
   ]
  },
  {
   "cell_type": "code",
   "execution_count": null,
   "metadata": {
    "hidden": true
   },
   "outputs": [],
   "source": [
    "print(bound_utm13N.iloc[0].geometry)"
   ]
  },
  {
   "cell_type": "code",
   "execution_count": null,
   "metadata": {
    "hidden": true
   },
   "outputs": [],
   "source": [
    "# Create figure with one plot\n",
    "extent = plotting_extent(arr_st, raster_profile[\"transform\"])\n",
    "\n",
    "fig, ax = plt.subplots(figsize=(20,20))\n",
    "\n",
    "# Plot boundary with high zorder for contrast\n",
    "bound_utm13N.boundary.plot(ax=ax, color=\"red\", zorder=10, linewidth=10)\n",
    "\n",
    "#fig, ax2 = plt.subplots(figsize=(20,20))\n",
    "# Plot NIR, red, and green bands, respectively, with stretch\n",
    "ep.plot_rgb(\n",
    "    arr_st,\n",
    "    rgb=(0,0,0,0),\n",
    "    ax=ax,\n",
    "    stretch=True,\n",
    "    str_clip=0.5,\n",
    "    title=\"Landsat 8 CIR Image with Stretch Applied\",\n",
    ")\n",
    "\n",
    "plt.show()"
   ]
  },
  {
   "cell_type": "markdown",
   "metadata": {
    "heading_collapsed": true,
    "hidden": true
   },
   "source": [
    "#### try again"
   ]
  },
  {
   "cell_type": "markdown",
   "metadata": {
    "hidden": true
   },
   "source": [
    "see: https://gis.stackexchange.com/questions/294072/how-can-i-superimpose-a-geopandas-dataframe-on-a-raster-plot"
   ]
  },
  {
   "cell_type": "code",
   "execution_count": null,
   "metadata": {
    "hidden": true
   },
   "outputs": [],
   "source": [
    "path_img_raster_new = '/Users/jurriaan/ML/UNOSAT_Challenge/raster_test.tif'\n",
    "raster_new = rio.open(path_img_raster_new)"
   ]
  },
  {
   "cell_type": "code",
   "execution_count": null,
   "metadata": {
    "hidden": true
   },
   "outputs": [],
   "source": [
    "# Plot boundary with high zorder for contrast\n",
    "fig, ax = plt.subplots(figsize=(15, 15))\n",
    "bound.plot(ax=ax, color=\"red\", zorder=10, linewidth=1)\n",
    "rio.plot.show(raster_new, ax=ax)\n"
   ]
  },
  {
   "cell_type": "markdown",
   "metadata": {
    "heading_collapsed": true
   },
   "source": [
    "## use pyproj: coords2index"
   ]
  },
  {
   "cell_type": "code",
   "execution_count": null,
   "metadata": {
    "hidden": true
   },
   "outputs": [],
   "source": [
    "with rio.open(path_raster) as src:\n",
    "    # Use pyproj to convert point coordinates\n",
    "    utm = pyproj.Proj(src.crs) # Pass CRS of image from rasterio\n",
    "    \n",
    "    raster_profile = src.profile\n",
    "    raster_profile[\"crs\"]"
   ]
  },
  {
   "cell_type": "code",
   "execution_count": null,
   "metadata": {
    "hidden": true
   },
   "outputs": [],
   "source": [
    "print(raster_obj.crs, polygons.crs)"
   ]
  },
  {
   "cell_type": "code",
   "execution_count": null,
   "metadata": {
    "hidden": true
   },
   "outputs": [],
   "source": [
    "#def coords2index(img_raster, shape_file):\n",
    "# from https://geohackweek.github.io/raster/04-workingwithrasters/\n",
    "lon,lat = (43.779087810840636, 37.03939453669721)\n",
    "    \n",
    "with rio.open(path_raster) as src:\n",
    "    # Use pyproj to convert point coordinates\n",
    "    utm = pyproj.Proj(src.crs) # Pass CRS of image from rasterio    \n",
    "    lonlat = pyproj.Proj(jer_plot_locations.crs)\n",
    "\n",
    "    east,north = pyproj.transform(lonlat, utm, lon, lat)\n",
    "\n",
    "    print('Mosul-------')\n",
    "    print(f'lon,lat=\\t\\t({lon:.2f},{lat:.2f})')\n",
    "    print(f'easting,northing=\\t({east:g},{north:g})')\n",
    "\n",
    "    # What is the corresponding row and column in our image?\n",
    "    row, col = src.index(east, north) # spatial --> image coordinates\n",
    "    print(f'row,col=\\t\\t({row},{col})')\n",
    "\n",
    "\n",
    "    # Or if you see an interesting feature and want to know the spatial coordinates:\n",
    "    east, north = src.xy(row,col) # image --> spatial coordinates\n",
    "    lon,lat = pyproj.transform(utm, lonlat, east, north)\n",
    "    print('lon,lat of row, col: ({}, {}) = {}, {}'.format(row, col, lon, lat) )"
   ]
  },
  {
   "cell_type": "code",
   "execution_count": null,
   "metadata": {
    "hidden": true
   },
   "outputs": [],
   "source": [
    "utm = pyproj.Proj(src.crs) # Pass CRS of image from rasterio    \n",
    "lonlat = pyproj.Proj(init=polygons.crs)"
   ]
  },
  {
   "cell_type": "code",
   "execution_count": null,
   "metadata": {
    "hidden": true
   },
   "outputs": [],
   "source": [
    "utm"
   ]
  },
  {
   "cell_type": "code",
   "execution_count": null,
   "metadata": {
    "hidden": true
   },
   "outputs": [],
   "source": [
    "lonlat"
   ]
  },
  {
   "cell_type": "code",
   "execution_count": null,
   "metadata": {
    "hidden": true
   },
   "outputs": [],
   "source": [
    "def coords2index(raster_obj, polygons, lon, lat):\n",
    "    utm = pyproj.Proj(raster_obj.crs) # Pass CRS of image from rasterio    \n",
    "    lonlat = pyproj.Proj(polygons.crs)\n",
    "    east,north = pyproj.transform(lonlat, utm, lon, lat)\n",
    "    row, col = src.index(east, north) # spatial --> image coordinates\n",
    "    return row, col"
   ]
  },
  {
   "cell_type": "code",
   "execution_count": null,
   "metadata": {
    "hidden": true
   },
   "outputs": [],
   "source": [
    "# get coordinatesin python list\n",
    "g = [i for i in polygons.geometry]\n",
    "all_coords = [mapping(g_i)[\"coordinates\"] for g_i in g]\n",
    "\n"
   ]
  },
  {
   "cell_type": "code",
   "execution_count": null,
   "metadata": {
    "hidden": true
   },
   "outputs": [],
   "source": [
    "all_coords[0][0][0]"
   ]
  },
  {
   "cell_type": "code",
   "execution_count": null,
   "metadata": {
    "hidden": true
   },
   "outputs": [],
   "source": [
    "list_polypoints_index = []\n",
    "\n",
    "for i, coords in enumerate(all_coords):\n",
    "    lon, lat = coords[0][0]\n",
    "    list_polypoints_index.append([coords2index(src, polygons, lon, lat)])\n",
    "    if i % 100 == 0:\n",
    "        print(i)"
   ]
  },
  {
   "cell_type": "code",
   "execution_count": null,
   "metadata": {
    "hidden": true
   },
   "outputs": [],
   "source": [
    "list_polypoints_index[:10]"
   ]
  },
  {
   "cell_type": "code",
   "execution_count": null,
   "metadata": {
    "hidden": true
   },
   "outputs": [],
   "source": [
    "out_of_range_x = [c for c in list_polypoints_index if c[0][0] > 10980]\n",
    "out_of_range_y = [c for c in list_polypoints_index if c[0][1] > 10979]"
   ]
  },
  {
   "cell_type": "code",
   "execution_count": null,
   "metadata": {
    "hidden": true
   },
   "outputs": [],
   "source": [
    "out_of_range_x"
   ]
  },
  {
   "cell_type": "code",
   "execution_count": null,
   "metadata": {
    "hidden": true
   },
   "outputs": [],
   "source": [
    "out_of_range_y"
   ]
  },
  {
   "cell_type": "code",
   "execution_count": null,
   "metadata": {
    "hidden": true
   },
   "outputs": [],
   "source": [
    "print(np_arr_norm.mean(), np.median(np_arr_norm), np_arr_norm.std())"
   ]
  },
  {
   "cell_type": "code",
   "execution_count": null,
   "metadata": {
    "hidden": true
   },
   "outputs": [],
   "source": [
    "len(list_polypoints_index)"
   ]
  },
  {
   "cell_type": "code",
   "execution_count": null,
   "metadata": {
    "hidden": true
   },
   "outputs": [],
   "source": [
    "# show np_arr_norm and coords of polygons\n",
    "\n",
    "arr_poly = np.zeros(np_arr_norm.shape)\n",
    "arr_poly_shapex, arr_poly_shapey = arr_poly.shape\n",
    "for coord in list_polypoints_index:\n",
    "    i,j = coord[0]\n",
    "    i_inv = arr_poly_shapex - i\n",
    "    j_inv = arr_poly_shapey - j\n",
    "    \n",
    "    if 0 <= i_inv <= arr_poly_shapex and 0 <= j_inv <= arr_poly_shapey:\n",
    "        arr_poly[i_inv, j_inv] = 1\n",
    "    "
   ]
  },
  {
   "cell_type": "code",
   "execution_count": null,
   "metadata": {
    "hidden": true
   },
   "outputs": [],
   "source": [
    "arr_poly.sum()"
   ]
  },
  {
   "cell_type": "code",
   "execution_count": null,
   "metadata": {
    "hidden": true
   },
   "outputs": [],
   "source": [
    "arr_poly.shape, np_arr_norm.shape"
   ]
  },
  {
   "cell_type": "code",
   "execution_count": null,
   "metadata": {
    "hidden": true
   },
   "outputs": [],
   "source": [
    "np_arr_norm_flp = np.fliplr(np.flipud(np_arr_norm))"
   ]
  },
  {
   "cell_type": "code",
   "execution_count": null,
   "metadata": {
    "hidden": true
   },
   "outputs": [],
   "source": [
    "fig, ax = plt.subplots(figsize=(5, 5))\n",
    "x = [c[0][0] for c in list_polypoints_index]\n",
    "y = [c[0][1] for c in list_polypoints_index]\n",
    "ax.imshow(np_arr_norm_flp)\n",
    "ax.scatter(x,y, s=5, c='white')\n",
    "#fig.savefig('mosul_raster_points_1')\n",
    "plt.close()"
   ]
  },
  {
   "cell_type": "markdown",
   "metadata": {},
   "source": [
    "## Masking a raster using  shapefile => use this for the input data and labels"
   ]
  },
  {
   "cell_type": "code",
   "execution_count": null,
   "metadata": {},
   "outputs": [],
   "source": [
    "#https://rasterio.readthedocs.io/en/stable/topics/masking-by-shapefile.html"
   ]
  },
  {
   "cell_type": "code",
   "execution_count": null,
   "metadata": {},
   "outputs": [],
   "source": [
    "shapes = polygons.geometry"
   ]
  },
  {
   "cell_type": "code",
   "execution_count": null,
   "metadata": {},
   "outputs": [],
   "source": [
    "with fiona.open(shp, \"r\") as shapefile:\n",
    "    shapes = [feature[\"geometry\"] for feature in shapefile]"
   ]
  },
  {
   "cell_type": "code",
   "execution_count": null,
   "metadata": {},
   "outputs": [],
   "source": [
    "t0 = time.time() # takes about 8 mins\n",
    "polygons_resh = polygons.to_crs(raster_obj.crs)\n",
    "print('takes:', time.time() - t0)"
   ]
  },
  {
   "cell_type": "code",
   "execution_count": null,
   "metadata": {},
   "outputs": [],
   "source": [
    "geom = polygons_resh.iloc[0]['geometry']"
   ]
  },
  {
   "cell_type": "code",
   "execution_count": null,
   "metadata": {},
   "outputs": [],
   "source": [
    "polygons_resh"
   ]
  },
  {
   "cell_type": "code",
   "execution_count": null,
   "metadata": {},
   "outputs": [],
   "source": [
    "print(geom)"
   ]
  },
  {
   "cell_type": "code",
   "execution_count": null,
   "metadata": {},
   "outputs": [],
   "source": [
    "geoms = polygons_resh['geometry']\n",
    "print(geoms)"
   ]
  },
  {
   "cell_type": "code",
   "execution_count": null,
   "metadata": {},
   "outputs": [],
   "source": [
    "# https://gis.stackexchange.com/questions/273390/extract-polygon-pixels-using-lazy-reading-in-rasterio\n",
    "polygon_mask = rio.features.geometry_mask(geometries=geoms,\n",
    "                                       out_shape=(raster_obj.height, raster_obj.width),\n",
    "                                       transform=raster_obj.transform,\n",
    "                                       all_touched=False,\n",
    "                                       invert=True)\n",
    "print(polygon_mask.shape)"
   ]
  },
  {
   "cell_type": "code",
   "execution_count": null,
   "metadata": {},
   "outputs": [],
   "source": [
    "polygon_mask.shape, np_arr_log_norm.shape, np.sum(polygon_mask)"
   ]
  },
  {
   "cell_type": "code",
   "execution_count": null,
   "metadata": {},
   "outputs": [],
   "source": [
    "polygon_mask_int = np.multiply(polygon_mask, 1)"
   ]
  },
  {
   "cell_type": "code",
   "execution_count": null,
   "metadata": {},
   "outputs": [],
   "source": [
    "sum(sum(polygon_mask_int))"
   ]
  },
  {
   "cell_type": "code",
   "execution_count": null,
   "metadata": {},
   "outputs": [],
   "source": [
    "np_arr_norm_mask_int = np.multiply(np_arr_log_norm, polygon_mask_int)"
   ]
  },
  {
   "cell_type": "code",
   "execution_count": null,
   "metadata": {},
   "outputs": [],
   "source": [
    "np_arr_norm_mask_int.shape"
   ]
  },
  {
   "cell_type": "code",
   "execution_count": null,
   "metadata": {
    "scrolled": true
   },
   "outputs": [],
   "source": [
    "print(np.sum(np.sum(np_arr_norm_mask_int)))\n",
    "print(np.sum(np.sum(np_arr_log_norm)))"
   ]
  },
  {
   "cell_type": "code",
   "execution_count": null,
   "metadata": {},
   "outputs": [],
   "source": [
    "np.where(polygon_mask_int == 1)"
   ]
  },
  {
   "cell_type": "code",
   "execution_count": null,
   "metadata": {},
   "outputs": [],
   "source": [
    "polygon_mask_int[10, 9142]"
   ]
  },
  {
   "cell_type": "code",
   "execution_count": null,
   "metadata": {},
   "outputs": [],
   "source": [
    "fig, ax = plt.subplots(figsize=(150, 150))\n",
    "#ax.imshow(polygon_mask, cmap='pink')\n",
    "ax.contour(polygon_mask, 1, colors='red', linewidths=0.5)\n",
    "ax.imshow(np_arr_log_norm)\n",
    "fig.savefig('raster_and_shape_large_{}.png'.format(file_label))"
   ]
  },
  {
   "cell_type": "code",
   "execution_count": null,
   "metadata": {},
   "outputs": [],
   "source": [
    "np_arr_norm_mask_int"
   ]
  },
  {
   "cell_type": "code",
   "execution_count": null,
   "metadata": {},
   "outputs": [],
   "source": [
    "fig, ax = plt.subplots(figsize=(150, 150))\n",
    "ax.imshow(np_arr_norm_mask_int)\n",
    "fig.savefig('raster_and_shape_mask_large_{}.png'.format(file_label))"
   ]
  },
  {
   "cell_type": "code",
   "execution_count": null,
   "metadata": {},
   "outputs": [],
   "source": [
    "# out_meta.update({\"driver\": \"GTiff\",\n",
    "#                  \"height\": out_image.shape[1],\n",
    "#                  \"width\": out_image.shape[2],\n",
    "#                  \"transform\": out_transform})\n",
    "\n",
    "# with rasterio.open(\"masked.tif\", \"w\", **out_meta) as dest:\n",
    "#     dest.write(out_image)"
   ]
  },
  {
   "cell_type": "code",
   "execution_count": null,
   "metadata": {},
   "outputs": [],
   "source": [
    "# out_image, out_transform = rio.mask.mask(src, shapes, crop=True)\n",
    "# out_meta = src.meta"
   ]
  }
 ],
 "metadata": {
  "kernelspec": {
   "display_name": ".venv",
   "language": "python",
   "name": ".venv"
  },
  "language_info": {
   "codemirror_mode": {
    "name": "ipython",
    "version": 3
   },
   "file_extension": ".py",
   "mimetype": "text/x-python",
   "name": "python",
   "nbconvert_exporter": "python",
   "pygments_lexer": "ipython3",
   "version": "3.7.1"
  }
 },
 "nbformat": 4,
 "nbformat_minor": 2
}
