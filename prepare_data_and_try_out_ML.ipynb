{
 "cells": [
  {
   "cell_type": "code",
   "execution_count": 6,
   "metadata": {},
   "outputs": [
    {
     "data": {
      "text/plain": [
       "'/Users/jurriaan/opt/anaconda3/envs/conda_unosatenv/bin/python'"
      ]
     },
     "execution_count": 6,
     "metadata": {},
     "output_type": "execute_result"
    }
   ],
   "source": [
    "import sys\n",
    "sys.executable"
   ]
  },
  {
   "cell_type": "code",
   "execution_count": 7,
   "metadata": {},
   "outputs": [],
   "source": [
    "import geopandas as gpd\n",
    "import pandas as pd\n",
    "import os\n",
    "import numpy as np\n",
    "import matplotlib.pyplot as plt\n",
    "import rasterio as rio\n",
    "from rasterio.plot import show\n",
    "from rasterio.plot import show_hist\n",
    "from rasterio.plot import plotting_extent\n",
    "from shapely.geometry import Polygon, mapping\n",
    "from rasterio.mask import mask\n",
    "from os.path import join\n",
    "import descartes\n",
    "from PIL import Image\n",
    "\n",
    "#import earthpy.spatial as es\n",
    "#import earthpy.plot as ep\n",
    "# import earthpy.clip as ec\n",
    "# import earthpy.mask as em\n",
    "\n",
    "import fiona \n",
    "import pyproj\n",
    "import time\n",
    "\n",
    "import warnings"
   ]
  },
  {
   "cell_type": "code",
   "execution_count": 17,
   "metadata": {},
   "outputs": [
    {
     "data": {
      "text/plain": [
       "'1.1.0'"
      ]
     },
     "execution_count": 17,
     "metadata": {},
     "output_type": "execute_result"
    }
   ],
   "source": [
    "rio.__version__"
   ]
  },
  {
   "cell_type": "code",
   "execution_count": 8,
   "metadata": {},
   "outputs": [],
   "source": [
    "import keras\n",
    "from keras.optimizers import Adam\n",
    "from sklearn.preprocessing import MultiLabelBinarizer\n",
    "from sklearn.model_selection import train_test_split"
   ]
  },
  {
   "cell_type": "code",
   "execution_count": 9,
   "metadata": {},
   "outputs": [],
   "source": [
    "# see: https://github.com/karolzak/keras-unet\n",
    "from keras_unet.models import satellite_unet \n",
    "from keras_unet.losses import jaccard_distance\n",
    "from keras_unet.metrics import iou, iou_thresholded\n",
    "from keras_unet.utils import get_augmented"
   ]
  },
  {
   "cell_type": "code",
   "execution_count": 10,
   "metadata": {},
   "outputs": [],
   "source": [
    "warnings.simplefilter(\"ignore\")"
   ]
  },
  {
   "cell_type": "code",
   "execution_count": 11,
   "metadata": {},
   "outputs": [],
   "source": [
    "# local paths\n",
    "path_data = '/Volumes/other/datasets_and_ML/UNOSAT_Challenge/Train_Dataset'\n",
    "area = 'Mosul_2015'\n",
    "path_file = 's1tiling_S1A_IW_GRDH_1SDV_20150108T030926_20150108T030951_004074_004EC3_B908/38SLF/s1a_38SLF_vv_DES_20150108t030926.tif'\n",
    "path_file_border_mask = 's1tiling_S1A_IW_GRDH_1SDV_20151222T030932_20151222T030957_009149_00D2A0_F04A/38SLF/s1a_38SLF_vv_DES_20151222t030932_BorderMask.tif'\n",
    "\n",
    "shape_file = '38SLF_Mosul.shp'\n",
    "file_label = shape_file[-0:-4] + path_file[-19:-4]\n",
    "\n",
    "path_raster = join(path_data, area, path_file)\n",
    "path_border_mask = join(path_data, area, path_file_border_mask)\n",
    "path_shape_file = join(path_data, area, shape_file)\n",
    "output = join('/Volumes/other/datasets_and_ML/UNOSAT_Challenge/output_test', 'mosul_test.tif')"
   ]
  },
  {
   "cell_type": "markdown",
   "metadata": {},
   "source": [
    "The idea is to make data slices of 128x128 (or 64x64 or 100*100) pixels. Each slice a training sample. The labels are the slices of the mask which filters the urban areas belonging to the data array. The label vector has a length of 128*128. In other words: For each pixel a prediction is made whether it is an urban pixel or not. Eventually we can group the mask pixels to sets of 2x2 or 3x3 in order to reduce the vector label."
   ]
  },
  {
   "cell_type": "code",
   "execution_count": 12,
   "metadata": {},
   "outputs": [],
   "source": [
    "polygons = gpd.read_file(path_shape_file)\n",
    "raster_obj= rio.open(path_raster)"
   ]
  },
  {
   "cell_type": "markdown",
   "metadata": {},
   "source": [
    "## process raster: clipping, transform, normalization"
   ]
  },
  {
   "cell_type": "code",
   "execution_count": 13,
   "metadata": {},
   "outputs": [],
   "source": [
    "np_arr_read = raster_obj.read()"
   ]
  },
  {
   "cell_type": "code",
   "execution_count": 14,
   "metadata": {},
   "outputs": [],
   "source": [
    "np_arr = np_arr_read[0]"
   ]
  },
  {
   "cell_type": "code",
   "execution_count": 10,
   "metadata": {},
   "outputs": [
    {
     "data": {
      "text/plain": [
       "27718424.943359375"
      ]
     },
     "execution_count": 10,
     "metadata": {},
     "output_type": "execute_result"
    }
   ],
   "source": [
    "sum(sum(np_arr))"
   ]
  },
  {
   "cell_type": "code",
   "execution_count": 15,
   "metadata": {},
   "outputs": [
    {
     "data": {
      "text/plain": [
       "CRS.from_epsg(32638)"
      ]
     },
     "execution_count": 15,
     "metadata": {},
     "output_type": "execute_result"
    }
   ],
   "source": [
    "raster_obj.crs"
   ]
  },
  {
   "cell_type": "code",
   "execution_count": 11,
   "metadata": {},
   "outputs": [
    {
     "data": {
      "text/plain": [
       "(12941.945, -66.68149, 0.15241046, 2.2706022)"
      ]
     },
     "execution_count": 11,
     "metadata": {},
     "output_type": "execute_result"
    }
   ],
   "source": [
    "np_arr.max(), np_arr.min(), np.median(np_arr), np.std(np_arr)"
   ]
  },
  {
   "cell_type": "code",
   "execution_count": 12,
   "metadata": {},
   "outputs": [],
   "source": [
    "# need to clip and stretch contrast of  figure\n",
    "clip_min=0\n",
    "clip_max=2\n",
    "\n",
    "arr_clip = np.clip(np_arr, clip_min, clip_max)"
   ]
  },
  {
   "cell_type": "code",
   "execution_count": 13,
   "metadata": {},
   "outputs": [
    {
     "data": {
      "image/png": "[encoded data removed]",
      "text/plain": [
       "<Figure size 432x288 with 1 Axes>"
      ]
     },
     "metadata": {
      "needs_background": "light"
     },
     "output_type": "display_data"
    }
   ],
   "source": [
    "rio.plot.show_hist(arr_clip, bins=100)"
   ]
  },
  {
   "cell_type": "code",
   "execution_count": 14,
   "metadata": {},
   "outputs": [],
   "source": [
    "def exponent(x, a, b):\n",
    "    return a*x**b"
   ]
  },
  {
   "cell_type": "code",
   "execution_count": 15,
   "metadata": {},
   "outputs": [],
   "source": [
    "def log(x, a, b):\n",
    "    return np.log(a*x + b)"
   ]
  },
  {
   "cell_type": "code",
   "execution_count": 16,
   "metadata": {},
   "outputs": [],
   "source": [
    "# Normalize bands into 0.0 - 1.0 scale\n",
    "def normalize(array):\n",
    "    array_min, array_max = array.min(), array.max()\n",
    "    return (array - array_min) / (array_max - array_min)"
   ]
  },
  {
   "cell_type": "code",
   "execution_count": 17,
   "metadata": {},
   "outputs": [],
   "source": [
    "a = 1\n",
    "b = 0.5\n",
    "\n",
    "a_l = 1\n",
    "b_l = 0.1\n",
    "\n",
    "array_exp = exponent(arr_clip, a, b)\n",
    "array_log = log(arr_clip, a_l, b_l)\n",
    "np_arr_norm = normalize(arr_clip)\n",
    "np_arr_exp_norm = normalize(array_exp)\n",
    "np_arr_log_norm = normalize(array_log)"
   ]
  },
  {
   "cell_type": "code",
   "execution_count": 18,
   "metadata": {},
   "outputs": [
    {
     "data": {
      "image/png": "[encoded data removed]",
      "text/plain": [
       "<Figure size 1440x360 with 3 Axes>"
      ]
     },
     "metadata": {
      "needs_background": "light"
     },
     "output_type": "display_data"
    }
   ],
   "source": [
    "fig, (ax1, ax2, ax3) = plt.subplots(1,3, figsize=(20,5))\n",
    "ax1.hist(np_arr_norm.flatten(), bins=100);\n",
    "ax2.hist(np_arr_exp_norm.flatten(), bins=100);\n",
    "ax3.hist(np_arr_log_norm.flatten(), bins=100);"
   ]
  },
  {
   "cell_type": "markdown",
   "metadata": {},
   "source": [
    "## Masking a raster using  shapefile => use this for the input data and labels"
   ]
  },
  {
   "cell_type": "code",
   "execution_count": 19,
   "metadata": {},
   "outputs": [],
   "source": [
    "#https://rasterio.readthedocs.io/en/stable/topics/masking-by-shapefile.html"
   ]
  },
  {
   "cell_type": "code",
   "execution_count": 20,
   "metadata": {},
   "outputs": [],
   "source": [
    "shapes = polygons.geometry"
   ]
  },
  {
   "cell_type": "code",
   "execution_count": 21,
   "metadata": {},
   "outputs": [],
   "source": [
    "with fiona.open(path_shape_file, \"r\") as shapefile:\n",
    "    shapes = [feature[\"geometry\"] for feature in shapefile]"
   ]
  },
  {
   "cell_type": "code",
   "execution_count": 22,
   "metadata": {},
   "outputs": [
    {
     "name": "stdout",
     "output_type": "stream",
     "text": [
      "takes: 0.7303581237792969\n"
     ]
    }
   ],
   "source": [
    "t0 = time.time() # takes about 8 mins\n",
    "polygons_resh = polygons.to_crs(raster_obj.crs)\n",
    "print('takes:', time.time() - t0)"
   ]
  },
  {
   "cell_type": "code",
   "execution_count": 23,
   "metadata": {},
   "outputs": [],
   "source": [
    "geom = polygons_resh.iloc[0]['geometry']"
   ]
  },
  {
   "cell_type": "code",
   "execution_count": 24,
   "metadata": {},
   "outputs": [
    {
     "data": {
      "text/html": [
       "<div>\n",
       "<style scoped>\n",
       "    .dataframe tbody tr th:only-of-type {\n",
       "        vertical-align: middle;\n",
       "    }\n",
       "\n",
       "    .dataframe tbody tr th {\n",
       "        vertical-align: top;\n",
       "    }\n",
       "\n",
       "    .dataframe thead th {\n",
       "        text-align: right;\n",
       "    }\n",
       "</style>\n",
       "<table border=\"1\" class=\"dataframe\">\n",
       "  <thead>\n",
       "    <tr style=\"text-align: right;\">\n",
       "      <th></th>\n",
       "      <th>DN</th>\n",
       "      <th>geometry</th>\n",
       "    </tr>\n",
       "  </thead>\n",
       "  <tbody>\n",
       "    <tr>\n",
       "      <th>0</th>\n",
       "      <td>255</td>\n",
       "      <td>POLYGON ((391421.828 4099939.450, 391493.730 4...</td>\n",
       "    </tr>\n",
       "    <tr>\n",
       "      <th>1</th>\n",
       "      <td>255</td>\n",
       "      <td>POLYGON ((389200.322 4099928.390, 389248.258 4...</td>\n",
       "    </tr>\n",
       "    <tr>\n",
       "      <th>2</th>\n",
       "      <td>255</td>\n",
       "      <td>POLYGON ((389104.321 4099919.681, 389128.289 4...</td>\n",
       "    </tr>\n",
       "    <tr>\n",
       "      <th>3</th>\n",
       "      <td>255</td>\n",
       "      <td>POLYGON ((387586.238 4099929.754, 387610.206 4...</td>\n",
       "    </tr>\n",
       "    <tr>\n",
       "      <th>4</th>\n",
       "      <td>255</td>\n",
       "      <td>POLYGON ((391733.532 4099945.422, 391805.434 4...</td>\n",
       "    </tr>\n",
       "  </tbody>\n",
       "</table>\n",
       "</div>"
      ],
      "text/plain": [
       "    DN                                           geometry\n",
       "0  255  POLYGON ((391421.828 4099939.450, 391493.730 4...\n",
       "1  255  POLYGON ((389200.322 4099928.390, 389248.258 4...\n",
       "2  255  POLYGON ((389104.321 4099919.681, 389128.289 4...\n",
       "3  255  POLYGON ((387586.238 4099929.754, 387610.206 4...\n",
       "4  255  POLYGON ((391733.532 4099945.422, 391805.434 4..."
      ]
     },
     "execution_count": 24,
     "metadata": {},
     "output_type": "execute_result"
    }
   ],
   "source": [
    "polygons_resh.head()"
   ]
  },
  {
   "cell_type": "code",
   "execution_count": 25,
   "metadata": {},
   "outputs": [
    {
     "name": "stdout",
     "output_type": "stream",
     "text": [
      "POLYGON ((391421.8279754725 4099939.449924852, 391493.7302158377 4099938.527171472, 391493.2188013538 4099898.663663579, 391421.3162219654 4099899.586413643, 391421.8279754725 4099939.449924852))\n"
     ]
    }
   ],
   "source": [
    "print(geom)"
   ]
  },
  {
   "cell_type": "code",
   "execution_count": 26,
   "metadata": {},
   "outputs": [],
   "source": [
    "geoms = polygons_resh['geometry']"
   ]
  },
  {
   "cell_type": "code",
   "execution_count": 27,
   "metadata": {},
   "outputs": [
    {
     "name": "stdout",
     "output_type": "stream",
     "text": [
      "(10980, 10979)\n"
     ]
    }
   ],
   "source": [
    "# https://gis.stackexchange.com/questions/273390/extract-polygon-pixels-using-lazy-reading-in-rasterio\n",
    "polygon_mask = rio.features.geometry_mask(geometries=geoms,\n",
    "                                       out_shape=(raster_obj.height, raster_obj.width),\n",
    "                                       transform=raster_obj.transform,\n",
    "                                       all_touched=False,\n",
    "                                       invert=True)\n",
    "print(polygon_mask.shape)"
   ]
  },
  {
   "cell_type": "code",
   "execution_count": 28,
   "metadata": {},
   "outputs": [
    {
     "data": {
      "text/plain": [
       "((10980, 10979), (10980, 10979), 4316046)"
      ]
     },
     "execution_count": 28,
     "metadata": {},
     "output_type": "execute_result"
    }
   ],
   "source": [
    "polygon_mask.shape, np_arr_log_norm.shape, np.sum(polygon_mask)"
   ]
  },
  {
   "cell_type": "code",
   "execution_count": 29,
   "metadata": {},
   "outputs": [],
   "source": [
    "polygon_mask_int = np.multiply(polygon_mask, 1)"
   ]
  },
  {
   "cell_type": "code",
   "execution_count": 30,
   "metadata": {},
   "outputs": [
    {
     "data": {
      "text/plain": [
       "4316046"
      ]
     },
     "execution_count": 30,
     "metadata": {},
     "output_type": "execute_result"
    }
   ],
   "source": [
    "sum(sum(polygon_mask_int))"
   ]
  },
  {
   "cell_type": "code",
   "execution_count": 31,
   "metadata": {},
   "outputs": [],
   "source": [
    "np_arr_norm_mask_int = np.multiply(np_arr_log_norm, polygon_mask_int)"
   ]
  },
  {
   "cell_type": "code",
   "execution_count": 32,
   "metadata": {},
   "outputs": [
    {
     "data": {
      "text/plain": [
       "(10980, 10979)"
      ]
     },
     "execution_count": 32,
     "metadata": {},
     "output_type": "execute_result"
    }
   ],
   "source": [
    "np_arr_norm_mask_int.shape"
   ]
  },
  {
   "cell_type": "code",
   "execution_count": 33,
   "metadata": {},
   "outputs": [
    {
     "data": {
      "text/plain": [
       "array([[0., 0., 0., ..., 0., 0., 0.],\n",
       "       [0., 0., 0., ..., 0., 0., 0.],\n",
       "       [0., 0., 0., ..., 0., 0., 0.],\n",
       "       ...,\n",
       "       [0., 0., 0., ..., 0., 0., 0.],\n",
       "       [0., 0., 0., ..., 0., 0., 0.],\n",
       "       [0., 0., 0., ..., 0., 0., 0.]])"
      ]
     },
     "execution_count": 33,
     "metadata": {},
     "output_type": "execute_result"
    }
   ],
   "source": [
    "np_arr_norm_mask_int"
   ]
  },
  {
   "cell_type": "code",
   "execution_count": 34,
   "metadata": {},
   "outputs": [
    {
     "data": {
      "text/plain": [
       "(10980, 10979)"
      ]
     },
     "execution_count": 34,
     "metadata": {},
     "output_type": "execute_result"
    }
   ],
   "source": [
    "polygon_mask_int.shape"
   ]
  },
  {
   "cell_type": "code",
   "execution_count": null,
   "metadata": {},
   "outputs": [],
   "source": []
  },
  {
   "cell_type": "markdown",
   "metadata": {},
   "source": [
    "# prepare  data"
   ]
  },
  {
   "cell_type": "code",
   "execution_count": 35,
   "metadata": {},
   "outputs": [
    {
     "data": {
      "text/plain": [
       "(10980, 10979)"
      ]
     },
     "execution_count": 35,
     "metadata": {},
     "output_type": "execute_result"
    }
   ],
   "source": [
    "np_arr_log_norm.shape"
   ]
  },
  {
   "cell_type": "code",
   "execution_count": 36,
   "metadata": {},
   "outputs": [
    {
     "data": {
      "text/plain": [
       "85.78125"
      ]
     },
     "execution_count": 36,
     "metadata": {},
     "output_type": "execute_result"
    }
   ],
   "source": [
    "np_arr_log_norm.shape[0] / 128"
   ]
  },
  {
   "cell_type": "code",
   "execution_count": 37,
   "metadata": {},
   "outputs": [
    {
     "data": {
      "text/plain": [
       "(10880, 10880)"
      ]
     },
     "execution_count": 37,
     "metadata": {},
     "output_type": "execute_result"
    }
   ],
   "source": [
    "np_arr_crop = np_arr_log_norm[:-100,:-99]\n",
    "np_arr_crop.shape"
   ]
  },
  {
   "cell_type": "code",
   "execution_count": 38,
   "metadata": {},
   "outputs": [],
   "source": [
    "polygon_mask_int_crop = polygon_mask_int[:-100,:-99]"
   ]
  },
  {
   "cell_type": "code",
   "execution_count": 39,
   "metadata": {},
   "outputs": [],
   "source": [
    "size_sample = (128, 128)\n",
    "n_samples = 85*85"
   ]
  },
  {
   "cell_type": "markdown",
   "metadata": {},
   "source": [
    "#### check reordering array"
   ]
  },
  {
   "cell_type": "code",
   "execution_count": 40,
   "metadata": {},
   "outputs": [
    {
     "data": {
      "text/plain": [
       "array([[ 0.,  1.,  2.,  3.,  4.,  5.],\n",
       "       [ 6.,  7.,  8.,  9., 10., 11.],\n",
       "       [12., 13., 14., 15., 16., 17.],\n",
       "       [18., 19., 20., 21., 22., 23.],\n",
       "       [24., 25., 26., 27., 28., 29.],\n",
       "       [30., 31., 32., 33., 34., 35.]])"
      ]
     },
     "execution_count": 40,
     "metadata": {},
     "output_type": "execute_result"
    }
   ],
   "source": [
    "test_arr0 = np.linspace(0,35,36).reshape([6,6])\n",
    "test_arr0"
   ]
  },
  {
   "cell_type": "code",
   "execution_count": 41,
   "metadata": {},
   "outputs": [],
   "source": [
    "# reshape\n",
    "n_test_arr = 3*3\n",
    "size_test_arr = (2,2)\n",
    "test_arr0.reshape(n_test_arr, size_test_arr[0], size_test_arr[1]);\n",
    "# nope"
   ]
  },
  {
   "cell_type": "code",
   "execution_count": 42,
   "metadata": {},
   "outputs": [],
   "source": [
    "# https://stackoverflow.com/questions/11105375/how-to-split-a-matrix-into-4-blocks-using-numpy/51914911#51914911?newreg=399264720ba84b0cb7e27c4fb121322d\n",
    "def split_array(array, nrows, ncols):\n",
    "    \"\"\"Split a matrix into sub-matrices.\"\"\"\n",
    "\n",
    "    r, h = array.shape\n",
    "    return (array.reshape(h//nrows, nrows, -1, ncols)\n",
    "                 .swapaxes(1, 2)\n",
    "                 .reshape(-1, nrows, ncols))"
   ]
  },
  {
   "cell_type": "code",
   "execution_count": 43,
   "metadata": {},
   "outputs": [],
   "source": [
    "split_array(test_arr0, 2,2);\n",
    "# yes, awesome!"
   ]
  },
  {
   "cell_type": "markdown",
   "metadata": {},
   "source": [
    "#### for real..."
   ]
  },
  {
   "cell_type": "code",
   "execution_count": 44,
   "metadata": {},
   "outputs": [],
   "source": [
    "Xdata = split_array(np_arr_crop, size_sample[0], size_sample[1])\n",
    "Ydata = split_array(polygon_mask_int_crop, size_sample[0], size_sample[1])"
   ]
  },
  {
   "cell_type": "code",
   "execution_count": 45,
   "metadata": {},
   "outputs": [
    {
     "data": {
      "text/plain": [
       "((7225, 128, 128), (7225, 128, 128))"
      ]
     },
     "execution_count": 45,
     "metadata": {},
     "output_type": "execute_result"
    }
   ],
   "source": [
    "Xdata.shape, Ydata.shape"
   ]
  },
  {
   "cell_type": "code",
   "execution_count": 46,
   "metadata": {},
   "outputs": [],
   "source": [
    "def visualize_sample(np_arr, poly_mask, figsize=(10,10), linewidth=1):\n",
    "    fig, ax = plt.subplots(figsize=figsize)\n",
    "    ax.contour(poly_mask, 1, colors='red', linewidth=linewidth)\n",
    "    ax.imshow(np_arr)"
   ]
  },
  {
   "cell_type": "code",
   "execution_count": 47,
   "metadata": {},
   "outputs": [
    {
     "data": {
      "image/png": "[encoded data removed]",
      "text/plain": [
       "<Figure size 720x720 with 1 Axes>"
      ]
     },
     "metadata": {
      "needs_background": "light"
     },
     "output_type": "display_data"
    }
   ],
   "source": [
    "i_show = 5000\n",
    "visualize_sample(Xdata[i_show], Ydata[i_show])"
   ]
  },
  {
   "cell_type": "markdown",
   "metadata": {},
   "source": [
    "### urban - non-urban balance"
   ]
  },
  {
   "cell_type": "code",
   "execution_count": 48,
   "metadata": {},
   "outputs": [
    {
     "data": {
      "text/plain": [
       "(7225,)"
      ]
     },
     "execution_count": 48,
     "metadata": {},
     "output_type": "execute_result"
    }
   ],
   "source": [
    "y_urban = np.sum(np.sum(Ydata, axis=2), axis=1) > 0\n",
    "y_non_urban = np.sum(np.sum(Ydata, axis=2), axis=1) == 0\n",
    "y_urban.shape"
   ]
  },
  {
   "cell_type": "code",
   "execution_count": 49,
   "metadata": {},
   "outputs": [
    {
     "name": "stdout",
     "output_type": "stream",
     "text": [
      "2034 5191\n"
     ]
    }
   ],
   "source": [
    "n_urban = sum(y_urban)\n",
    "n_non_urban = sum(y_non_urban)\n",
    "print(n_urban, n_non_urban)"
   ]
  },
  {
   "cell_type": "code",
   "execution_count": null,
   "metadata": {},
   "outputs": [],
   "source": [
    "#TODO: make better balance!"
   ]
  },
  {
   "cell_type": "markdown",
   "metadata": {},
   "source": [
    "\n",
    "# Machine learning"
   ]
  },
  {
   "cell_type": "markdown",
   "metadata": {},
   "source": [
    "### Data augmentation"
   ]
  },
  {
   "cell_type": "code",
   "execution_count": 50,
   "metadata": {},
   "outputs": [],
   "source": [
    "#TODO: use stride => important"
   ]
  },
  {
   "cell_type": "code",
   "execution_count": 51,
   "metadata": {},
   "outputs": [],
   "source": [
    "#TODO: mirror, nice to have"
   ]
  },
  {
   "cell_type": "code",
   "execution_count": 52,
   "metadata": {},
   "outputs": [],
   "source": [
    "#TODO: rotate, nive to have"
   ]
  },
  {
   "cell_type": "code",
   "execution_count": null,
   "metadata": {},
   "outputs": [],
   "source": [
    "    # train_gen = get_augmented(\n",
    "#     x_train, y_train, batch_size=2,\n",
    "#     data_gen_args = dict(\n",
    "#         rotation_range=15.,\n",
    "#         width_shift_range=0.05,\n",
    "#         height_shift_range=0.05,\n",
    "#         shear_range=50,\n",
    "#         zoom_range=0.2,\n",
    "#         horizontal_flip=True,\n",
    "#         vertical_flip=True,\n",
    "#         fill_mode='constant'\n",
    "#     ))"
   ]
  },
  {
   "cell_type": "code",
   "execution_count": null,
   "metadata": {},
   "outputs": [],
   "source": []
  },
  {
   "cell_type": "markdown",
   "metadata": {},
   "source": [
    "## prepare train and test input"
   ]
  },
  {
   "cell_type": "code",
   "execution_count": 65,
   "metadata": {},
   "outputs": [],
   "source": [
    "Xdata_input = Xdata.reshape(Xdata.shape[0], Xdata.shape[1], Xdata.shape[2], 1)\n",
    "Ydata_input = Ydata.reshape(Ydata.shape[0], Ydata.shape[1], Ydata.shape[2], 1)\n",
    "\n",
    "(trainX, testX, trainY, testY) = train_test_split(Xdata_input,  Ydata_input, test_size=0.2, random_state=42)"
   ]
  },
  {
   "cell_type": "markdown",
   "metadata": {},
   "source": [
    "## Neural Network"
   ]
  },
  {
   "cell_type": "code",
   "execution_count": 66,
   "metadata": {},
   "outputs": [],
   "source": [
    "EPOCHS = 10\n",
    "INIT_LR = 1e-3\n",
    "BS = 2\n",
    "IMAGE_DIMS = (128, 128, 1)\n",
    "\n",
    "model = satellite_unet(IMAGE_DIMS)\n",
    "opt = Adam(lr=INIT_LR, decay=INIT_LR / EPOCHS)"
   ]
  },
  {
   "cell_type": "code",
   "execution_count": 69,
   "metadata": {},
   "outputs": [],
   "source": [
    "model.compile(loss=\"binary_crossentropy\", \n",
    "              optimizer=opt, \n",
    "              #metrics=[\"accuracy\"], \n",
    "              metrics=[iou, iou_thresholded])"
   ]
  },
  {
   "cell_type": "markdown",
   "metadata": {},
   "source": [
    "## Training"
   ]
  },
  {
   "cell_type": "code",
   "execution_count": 76,
   "metadata": {},
   "outputs": [
    {
     "name": "stdout",
     "output_type": "stream",
     "text": [
      "Epoch 1/10\n",
      "5780/5780 [==============================] - 2977s 515ms/step - loss: 0.1224 - iou: 0.0415 - iou_thresholded: 0.4443\n",
      "Epoch 2/10\n",
      "5780/5780 [==============================] - 2834s 490ms/step - loss: 0.0778 - iou: 0.0793 - iou_thresholded: 0.4681\n",
      "Epoch 3/10\n",
      "5780/5780 [==============================] - 2776s 480ms/step - loss: 0.0698 - iou: 0.0917 - iou_thresholded: 0.5028\n",
      "Epoch 4/10\n",
      "5780/5780 [==============================] - 2807s 486ms/step - loss: 0.0633 - iou: 0.0972 - iou_thresholded: 0.5310\n",
      "Epoch 5/10\n",
      "5780/5780 [==============================] - 2779s 481ms/step - loss: 0.0636 - iou: 0.0979 - iou_thresholded: 0.5416\n",
      "Epoch 6/10\n",
      "5780/5780 [==============================] - 2785s 482ms/step - loss: 0.0579 - iou: 0.1047 - iou_thresholded: 0.5513\n",
      "Epoch 7/10\n",
      "5780/5780 [==============================] - 2801s 485ms/step - loss: 0.0556 - iou: 0.1091 - iou_thresholded: 0.5647\n",
      "Epoch 8/10\n",
      "5780/5780 [==============================] - 2759s 477ms/step - loss: 0.0564 - iou: 0.1081 - iou_thresholded: 0.5753\n",
      "Epoch 9/10\n",
      "5780/5780 [==============================] - 2795s 484ms/step - loss: 0.0539 - iou: 0.1128 - iou_thresholded: 0.5804\n",
      "Epoch 10/10\n",
      "5780/5780 [==============================] - 2778s 481ms/step - loss: 0.0544 - iou: 0.1131 - iou_thresholded: 0.5797\n",
      "iou: 28.69%\n"
     ]
    }
   ],
   "source": [
    "H = model.fit(trainX, trainY,  \n",
    "                 batch_size=BS, \n",
    "                epochs=EPOCHS, \n",
    "                verbose=1)\n",
    "                    \n",
    "# evaluate the model\n",
    "scores = model.evaluate(testX, testY, verbose=0)\n",
    "print(\"%s: %.2f%%\" % (model.metrics_names[1], scores[1]*100))"
   ]
  },
  {
   "cell_type": "code",
   "execution_count": 78,
   "metadata": {},
   "outputs": [],
   "source": [
    "EPOCHS = 12\n",
    "INIT_LR = 1e-3\n",
    "BS = 16\n",
    "IMAGE_DIMS = (128, 128, 1)\n",
    "\n",
    "model2 = satellite_unet(IMAGE_DIMS)\n",
    "opt2 = Adam(lr=INIT_LR, decay=INIT_LR / EPOCHS)"
   ]
  },
  {
   "cell_type": "code",
   "execution_count": 79,
   "metadata": {},
   "outputs": [],
   "source": [
    "model2.compile(loss=\"binary_crossentropy\", \n",
    "              optimizer=opt2, \n",
    "              #metrics=[\"accuracy\"], \n",
    "              metrics=[iou, iou_thresholded])"
   ]
  },
  {
   "cell_type": "code",
   "execution_count": 80,
   "metadata": {},
   "outputs": [
    {
     "name": "stdout",
     "output_type": "stream",
     "text": [
      "Epoch 1/12\n",
      "5780/5780 [==============================] - 2220s 384ms/step - loss: 0.0870 - iou: 0.2069 - iou_thresholded: 0.2639\n",
      "Epoch 2/12\n",
      "5780/5780 [==============================] - 2132s 369ms/step - loss: 0.0708 - iou: 0.2551 - iou_thresholded: 0.3466\n",
      "Epoch 3/12\n",
      "5780/5780 [==============================] - 2091s 362ms/step - loss: 0.0650 - iou: 0.2722 - iou_thresholded: 0.3716\n",
      "Epoch 4/12\n",
      "5780/5780 [==============================] - 2033s 352ms/step - loss: 0.0631 - iou: 0.2891 - iou_thresholded: 0.3863\n",
      "Epoch 5/12\n",
      "5780/5780 [==============================] - 2053s 355ms/step - loss: 0.0582 - iou: 0.3161 - iou_thresholded: 0.4212\n",
      "Epoch 6/12\n",
      "5780/5780 [==============================] - 2035s 352ms/step - loss: 0.0578 - iou: 0.3135 - iou_thresholded: 0.4131\n",
      "Epoch 7/12\n",
      "5780/5780 [==============================] - 2038s 353ms/step - loss: 0.0549 - iou: 0.3240 - iou_thresholded: 0.4224\n",
      "Epoch 8/12\n",
      "5780/5780 [==============================] - 2037s 352ms/step - loss: 0.0552 - iou: 0.3246 - iou_thresholded: 0.4220\n",
      "Epoch 9/12\n",
      "5780/5780 [==============================] - 2033s 352ms/step - loss: 0.0527 - iou: 0.3403 - iou_thresholded: 0.4435\n",
      "Epoch 10/12\n",
      "5780/5780 [==============================] - 2041s 353ms/step - loss: 0.0522 - iou: 0.3328 - iou_thresholded: 0.4290\n",
      "Epoch 11/12\n",
      "5780/5780 [==============================] - 2036s 352ms/step - loss: 0.0497 - iou: 0.3461 - iou_thresholded: 0.4405\n",
      "Epoch 12/12\n",
      "5780/5780 [==============================] - 2034s 352ms/step - loss: 0.0510 - iou: 0.3460 - iou_thresholded: 0.4421\n",
      "iou: 23.16%\n"
     ]
    }
   ],
   "source": [
    "H2 = model2.fit(trainX, trainY,  \n",
    "                 batch_size=BS, \n",
    "                 epochs=EPOCHS, \n",
    "                 verbose=1)\n",
    "                    \n",
    "# evaluate the model\n",
    "scores = model2.evaluate(testX, testY, verbose=0)\n",
    "print(\"%s: %.2f%%\" % (model2.metrics_names[1], scores[1]*100))"
   ]
  },
  {
   "cell_type": "code",
   "execution_count": null,
   "metadata": {},
   "outputs": [],
   "source": [
    "# training for augmentated data: use generator! \n",
    "\n",
    "\n",
    "# H = model.fit_generator(\n",
    "# aug.flow(trainX, trainY, batch_size=BS),\n",
    "# validation_data=(testX, testY),\n",
    "# steps_per_epoch=len(trainX) // BS,\n",
    "# epochs=EPOCHS, verbose=1)"
   ]
  },
  {
   "cell_type": "markdown",
   "metadata": {},
   "source": [
    "### Cross validation"
   ]
  },
  {
   "cell_type": "markdown",
   "metadata": {},
   "source": [
    "cv is expensive"
   ]
  },
  {
   "cell_type": "code",
   "execution_count": null,
   "metadata": {},
   "outputs": [],
   "source": [
    "kfold = StratifiedKFold(n_splits=10, shuffle=True, random_state=seed)\n",
    "cvscores = []\n",
    "for train, test in kfold.split(X, Y):\n",
    "\n",
    "    model.fit_generator( \n",
    "        aug.flow(trainX, trainY, batch_size=BS),\n",
    "\n",
    "        validation_data=(testX, testY),\n",
    "        steps_per_epoch=len(trainX) // BS,\n",
    "        epochs=EPOCHS, verbose=1)\n",
    "\n",
    "        # evaluate the model\n",
    "        scores = model.evaluate(X[test], Y[test], verbose=0)\n",
    "        print(\"%s: %.2f%%\" % (model.metrics_names[1], scores[1]*100))\n",
    "        cvscores.append(scores[1] * 100)\n",
    "\n",
    "print(\"%.2f%% (+/- %.2f%%)\" % (numpy.mean(cvscores), numpy.std(cvscores)))"
   ]
  },
  {
   "cell_type": "markdown",
   "metadata": {},
   "source": [
    "## post processing"
   ]
  },
  {
   "cell_type": "markdown",
   "metadata": {},
   "source": [
    "conversion of pixels to polygons"
   ]
  },
  {
   "cell_type": "code",
   "execution_count": null,
   "metadata": {},
   "outputs": [],
   "source": []
  }
 ],
 "metadata": {
  "kernelspec": {
   "display_name": "Python 3",
   "language": "python",
   "name": "python3"
  },
  "language_info": {
   "codemirror_mode": {
    "name": "ipython",
    "version": 3
   },
   "file_extension": ".py",
   "mimetype": "text/x-python",
   "name": "python",
   "nbconvert_exporter": "python",
   "pygments_lexer": "ipython3",
   "version": "3.7.5"
  }
 },
 "nbformat": 4,
 "nbformat_minor": 2
}